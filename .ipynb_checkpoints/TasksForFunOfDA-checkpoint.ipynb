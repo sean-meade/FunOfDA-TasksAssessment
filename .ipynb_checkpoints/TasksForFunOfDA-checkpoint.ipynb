{
 "cells": [
  {
   "cell_type": "markdown",
   "metadata": {},
   "source": [
    "## To-do:\n",
    "- Transfer references from bookmark tab.\n",
    "- Add/actually write a README.md.\n",
    "- add option for case sensitivity."
   ]
  },
  {
   "cell_type": "markdown",
   "metadata": {},
   "source": [
    "# Tasks for Fundamentals of Data Analytics Module\n",
    "\n",
    "My submission for the solutions to the Tasks Assessment. The author is Seán Meade (G00376471@gmit.ie).\n",
    "\n",
    "***\n",
    "\n",
    "*Modules can't be used to complete the tasks but the following modules are used to explain certain parts and test our code.*"
   ]
  },
  {
   "cell_type": "code",
   "execution_count": 10,
   "metadata": {},
   "outputs": [
    {
     "data": {
      "text/plain": [
       "array([57, 50, 53, 51, 50])"
      ]
     },
     "execution_count": 10,
     "metadata": {},
     "output_type": "execute_result"
    }
   ],
   "source": [
    "np.random.binomial(100, .5, 5)"
   ]
  },
  {
   "cell_type": "markdown",
   "metadata": {},
   "source": [
    "Using `np.random.binomial(100, .5, 1000)` I flipped the 'coin' 100 times with each side having a probability of 0.5 and ran this experiment 1000 times. Then using matplotlib I created a histogram to show the numbers of heads in each experiment in ranges."
   ]
  },
  {
   "cell_type": "code",
   "execution_count": 22,
   "metadata": {},
   "outputs": [
    {
     "data": {
      "text/plain": [
       "(array([ 11.,  34.,  90., 158., 228., 238., 144.,  62.,  25.,  10.]),\n",
       " array([35. , 38.1, 41.2, 44.3, 47.4, 50.5, 53.6, 56.7, 59.8, 62.9, 66. ]),\n",
       " <a list of 10 Patch objects>)"
      ]
     },
     "execution_count": 22,
     "metadata": {},
     "output_type": "execute_result"
    },
    {
     "data": {
      "image/png": "[encoded data removed]",
      "text/plain": [
       "<Figure size 432x288 with 1 Axes>"
      ]
     },
     "metadata": {
      "needs_background": "light"
     },
     "output_type": "display_data"
    }
   ],
   "source": [
    "import numpy as np\n",
    "import matplotlib.pyplot as plt\n",
    "\n",
    "no_heads = np.random.binomial(100, .5, 1000)\n",
    "plt.hist(no_heads)"
   ]
  },
  {
   "cell_type": "code",
   "execution_count": 23,
   "metadata": {},
   "outputs": [
    {
     "data": {
      "text/plain": [
       "array([57, 48, 48, 52, 49, 56, 57, 40, 44, 66, 55, 48, 54, 42, 54, 64, 45,\n",
       "       47, 51, 53, 61, 49, 54, 51, 53, 52, 53, 53, 52, 38, 48, 50, 50, 45,\n",
       "       53, 51, 47, 50, 51, 44, 58, 55, 53, 48, 52, 39, 46, 55, 40, 54, 48,\n",
       "       53, 57, 55, 42, 52, 51, 48, 50, 63, 55, 45, 51, 46, 54, 48, 53, 55,\n",
       "       50, 66, 45, 46, 50, 50, 54, 58, 56, 45, 51, 61, 49, 46, 54, 52, 41,\n",
       "       46, 53, 51, 60, 49, 48, 50, 54, 46, 57, 44, 57, 48, 56, 47, 53, 60,\n",
       "       61, 51, 50, 47, 49, 51, 52, 48, 51, 48, 52, 51, 50, 49, 57, 53, 49,\n",
       "       52, 35, 52, 53, 43, 50, 49, 53, 51, 53, 53, 41, 58, 44, 44, 53, 43,\n",
       "       48, 45, 50, 51, 62, 44, 48, 36, 57, 55, 42, 44, 44, 49, 51, 51, 52,\n",
       "       46, 48, 50, 42, 46, 41, 52, 52, 48, 51, 51, 55, 56, 54, 57, 53, 48,\n",
       "       54, 49, 46, 58, 44, 46, 48, 49, 44, 46, 47, 56, 52, 54, 55, 53, 43,\n",
       "       47, 45, 48, 52, 51, 53, 51, 58, 57, 41, 52, 46, 44, 48, 37, 45, 49,\n",
       "       45, 48, 50, 54, 46, 51, 45, 51, 48, 48, 42, 47, 55, 54, 55, 53, 42,\n",
       "       56, 47, 44, 51, 45, 55, 46, 42, 48, 55, 42, 45, 50, 50, 48, 52, 52,\n",
       "       48, 53, 51, 54, 55, 53, 48, 51, 52, 44, 47, 40, 59, 50, 47, 46, 52,\n",
       "       61, 58, 51, 48, 57, 52, 46, 64, 44, 54, 52, 53, 52, 54, 59, 50, 49,\n",
       "       51, 45, 52, 53, 44, 51, 50, 46, 54, 44, 55, 50, 48, 42, 50, 46, 43,\n",
       "       53, 49, 49, 43, 57, 47, 53, 50, 44, 47, 52, 46, 51, 54, 52, 49, 55,\n",
       "       50, 59, 48, 49, 52, 35, 55, 53, 43, 53, 41, 41, 45, 53, 41, 53, 52,\n",
       "       51, 51, 53, 50, 40, 49, 55, 51, 52, 53, 52, 49, 58, 55, 50, 49, 47,\n",
       "       54, 51, 48, 51, 51, 43, 47, 63, 50, 46, 42, 58, 56, 57, 54, 47, 46,\n",
       "       46, 57, 57, 46, 54, 50, 55, 53, 51, 52, 59, 60, 49, 48, 46, 46, 51,\n",
       "       55, 54, 49, 52, 46, 50, 53, 50, 48, 46, 48, 49, 51, 43, 52, 55, 45,\n",
       "       44, 51, 57, 48, 56, 53, 47, 48, 38, 48, 51, 42, 50, 54, 42, 49, 50,\n",
       "       56, 57, 42, 46, 51, 52, 54, 50, 49, 51, 48, 51, 50, 49, 55, 49, 47,\n",
       "       53, 50, 54, 48, 52, 52, 53, 45, 54, 51, 48, 53, 52, 64, 47, 51, 44,\n",
       "       47, 42, 57, 42, 46, 54, 50, 54, 49, 49, 49, 56, 39, 53, 51, 64, 52,\n",
       "       51, 51, 46, 53, 51, 53, 46, 46, 55, 52, 53, 56, 47, 49, 50, 47, 58,\n",
       "       60, 47, 62, 53, 56, 42, 48, 51, 47, 49, 47, 61, 52, 41, 56, 60, 45,\n",
       "       54, 55, 51, 55, 54, 49, 44, 45, 56, 49, 51, 50, 46, 43, 49, 55, 49,\n",
       "       43, 51, 46, 59, 55, 54, 51, 53, 43, 56, 42, 51, 47, 44, 42, 53, 57,\n",
       "       51, 56, 52, 43, 50, 51, 55, 54, 53, 56, 50, 39, 49, 36, 57, 57, 47,\n",
       "       50, 48, 44, 48, 60, 52, 50, 40, 54, 63, 51, 57, 48, 56, 51, 52, 54,\n",
       "       61, 49, 55, 41, 50, 51, 44, 51, 52, 51, 51, 42, 56, 43, 58, 44, 41,\n",
       "       43, 44, 46, 50, 60, 50, 48, 49, 52, 48, 53, 51, 50, 50, 47, 58, 51,\n",
       "       47, 44, 54, 44, 54, 55, 56, 49, 45, 47, 41, 55, 40, 56, 51, 51, 49,\n",
       "       47, 45, 48, 52, 41, 45, 54, 47, 45, 40, 61, 54, 47, 48, 55, 45, 48,\n",
       "       45, 45, 49, 54, 51, 50, 49, 45, 51, 45, 42, 42, 53, 48, 56, 54, 47,\n",
       "       46, 48, 57, 52, 53, 53, 49, 49, 40, 49, 50, 51, 50, 48, 62, 61, 46,\n",
       "       54, 50, 52, 46, 57, 51, 48, 59, 44, 49, 51, 46, 47, 46, 50, 60, 51,\n",
       "       53, 44, 47, 50, 52, 48, 58, 49, 57, 47, 49, 56, 48, 41, 54, 44, 51,\n",
       "       49, 57, 53, 43, 54, 45, 54, 51, 54, 58, 47, 49, 49, 52, 56, 54, 50,\n",
       "       52, 52, 53, 51, 47, 53, 49, 59, 50, 48, 49, 57, 46, 51, 40, 47, 51,\n",
       "       60, 51, 50, 51, 59, 54, 54, 49, 41, 41, 51, 47, 51, 59, 61, 48, 51,\n",
       "       54, 54, 52, 53, 43, 53, 47, 50, 47, 43, 48, 44, 45, 50, 58, 55, 50,\n",
       "       43, 48, 49, 49, 50, 56, 46, 53, 54, 37, 52, 47, 46, 57, 45, 51, 48,\n",
       "       39, 49, 45, 44, 44, 51, 46, 49, 55, 40, 42, 56, 54, 60, 57, 44, 49,\n",
       "       53, 57, 41, 53, 56, 38, 53, 48, 52, 48, 49, 54, 52, 48, 50, 42, 38,\n",
       "       53, 45, 55, 55, 41, 55, 61, 50, 51, 48, 45, 51, 53, 55, 51, 49, 56,\n",
       "       52, 51, 37, 49, 49, 57, 56, 47, 46, 44, 49, 52, 46, 49, 48, 44, 52,\n",
       "       50, 49, 51, 50, 49, 48, 47, 55, 47, 46, 57, 53, 53, 52, 46, 55, 51,\n",
       "       45, 55, 53, 51, 58, 51, 42, 53, 52, 46, 50, 41, 47, 60, 48, 46, 57,\n",
       "       42, 46, 45, 49, 45, 51, 55, 48, 42, 48, 56, 54, 55, 52, 48, 45, 54,\n",
       "       52, 55, 52, 52, 49, 49, 48, 60, 50, 52, 46, 53, 53, 44, 53, 46, 50,\n",
       "       43, 49, 59, 50, 50, 47, 50, 45, 47, 48, 47, 47, 44, 40, 47, 54, 47,\n",
       "       48, 50, 46, 45, 43, 47, 48, 50, 48, 53, 55, 54, 46, 49, 54, 41, 54,\n",
       "       43, 42, 57, 55, 48, 46, 63, 42, 53, 48, 49, 46, 57, 55, 42, 49, 49,\n",
       "       42, 54, 47, 46, 57, 42, 54, 55, 49, 46, 45, 52, 49, 51, 57, 54, 48,\n",
       "       50, 53, 54, 46, 52, 58, 55, 53, 46, 45, 52, 51, 56, 46])"
      ]
     },
     "execution_count": 23,
     "metadata": {},
     "output_type": "execute_result"
    }
   ],
   "source": [
    "no_heads"
   ]
  },
  {
   "cell_type": "code",
   "execution_count": null,
   "metadata": {},
   "outputs": [],
   "source": []
  },
  {
   "cell_type": "code",
   "execution_count": null,
   "metadata": {},
   "outputs": [],
   "source": []
  },
  {
   "cell_type": "markdown",
   "metadata": {},
   "source": [
    "**<ins>Task 1</ins>**:\n",
    ">**October 5th, 2020**: Write a Python function called counts that takes a list as\n",
    "input and returns a dictionary of unique items in the list as keys and the number of\n",
    "times each item appears as values. So, the input ['A', 'A', 'B', 'C', 'A']\n",
    "should have output {'A': 3, 'B': 1, 'C': 1} . Your code should not depend\n",
    "on any module from the standard library or otherwise. You should research the task\n",
    "first and include a description with references of your algorithm in the notebook.\n",
    "\n",
    "#### Introduction\n",
    "\n",
    "Lists and dictionaries have some things in common. Both are data structures containing one or more data points. You can change and alter both during the execution of a program, otherwise known as being mutable. You can nest both inside a list or a dictionary. Both can be, but do not have to be, homogeneous. Meaning that you can have numbers, strings and Booleans in the same list or dictionary. [1]\n",
    "\n",
    "| Feature | List | Dictionary |\n",
    "|---------|------|------------|\n",
    "| Mutable | Yes  |   Yes      |\n",
    "| Homogeneous | Yes | Yes |\n",
    "| Nestable | Yes | Yes |\n",
    "| Ordered | Yes | No |\n",
    "\n",
    "The main difference between the two is that lists are ordered, and dictionaries are not. Simply put this means that when you search for `list[0]` it will look up the first element of the list but when you search `dict[0]` it will search for the key value 0 and give you the corresponding value. And that each element in a list has a value but in a dictionary each element has a key and a value.[1]"
   ]
  },
  {
   "cell_type": "code",
   "execution_count": 1,
   "metadata": {},
   "outputs": [],
   "source": [
    "list = [2, 4, 6, 8, 10, 12, 14]\n",
    "\n",
    "dictionary = {100: 2, 5: 4, \"hi\": 6, 0: 8, \"x\": 10, \"f\": 12, 8.91: 14}"
   ]
  },
  {
   "cell_type": "markdown",
   "metadata": {},
   "source": [
    "This means when I use `list[0]` it will return the first element in the list which here is 2"
   ]
  },
  {
   "cell_type": "code",
   "execution_count": 2,
   "metadata": {},
   "outputs": [
    {
     "data": {
      "text/plain": [
       "2"
      ]
     },
     "execution_count": 2,
     "metadata": {},
     "output_type": "execute_result"
    }
   ],
   "source": [
    "list[0]"
   ]
  },
  {
   "cell_type": "markdown",
   "metadata": {},
   "source": [
    "Where if I search `dictionary[0]` it will return the value with the corresponding key vaue of `0` which in the example above is 8."
   ]
  },
  {
   "cell_type": "code",
   "execution_count": 3,
   "metadata": {},
   "outputs": [
    {
     "data": {
      "text/plain": [
       "8"
      ]
     },
     "execution_count": 3,
     "metadata": {},
     "output_type": "execute_result"
    }
   ],
   "source": [
    "dictionary[0]"
   ]
  },
  {
   "cell_type": "markdown",
   "metadata": {},
   "source": [
    "This is an important distinction to make. In our `list` and our `dict` the values are the same. They look to be in the same order (as far as values go) but in fact dictionaries don't have an order. Dictionaries use a pairing system that goes `\"key\": \"value\"`. This becomes more intuative if you look at it visually [2].\n",
    "\n",
    "![Visual Representation of Diction Key: Values](imgs/created/dictionary1.png)\n",
    "\n",
    "As seen above the key `0` corresponds to the value 8 but this could easily be placed anywhere in the dictionary and still be accessed the same. Now to us it's moved but to Python nothing has changed, `dict[0]` will produce the same value because we haven't changed its key.\n",
    "\n",
    "![Visual Representation of Diction Key: Values 2](imgs/created/dictionary2.png)\n",
    "\n",
    "Where as in a list changing the order matters. Take the list above using `list[0]` will return us the value 2.\n",
    "\n",
    "![Visual Representation of List Positioning](imgs/created/list1.png)\n",
    "\n",
    "Now if we were to move the 2 value the position (or how we access that value) will change.\n",
    "\n",
    "![Visual Representation of List Positioning2](imgs/created/list2.png)\n",
    "\n",
    "Now in order to access the value of 2 we must use `list[3]`."
   ]
  },
  {
   "cell_type": "markdown",
   "metadata": {},
   "source": [
    "#### The problem\n",
    "\n",
    "The problem can be split into three parts. The first determining the unique elements in the list (that will later become our keys). Second the count of each of these within the list and use them as the value of our keys. Lastly we'll have to create the dictionary with or now obtained keys and values.\n",
    "\n",
    "We'll start with the first half of the problem: collecting our key values. For now we will not be interested in upper and lower case letters so our function will not be case sensetive. We'll create a very simple `testList` to test our code on."
   ]
  },
  {
   "cell_type": "code",
   "execution_count": 6,
   "metadata": {},
   "outputs": [],
   "source": [
    "testList = [5, 4, 3, 2, 1, 2, 3, 4, 5, \"A\", \"B\", \"C\", \"B\"]"
   ]
  },
  {
   "cell_type": "markdown",
   "metadata": {},
   "source": [
    "We now need to be able to look through our `testList` and pick out the unique elements. So first we need to be able to grab each item in turn. We can do this with the `set()` method. A set in mathematics is \"a well-defined collection of distinct objects\" [3]. By distinct objects in our terms it means unique elements. So passing a list into `set()` will return a set containing of distinct (or unique) objects (or elements) [4]."
   ]
  },
  {
   "cell_type": "code",
   "execution_count": 7,
   "metadata": {
    "scrolled": false
   },
   "outputs": [
    {
     "data": {
      "text/plain": [
       "{1, 2, 3, 4, 5, 'A', 'B', 'C'}"
      ]
     },
     "execution_count": 7,
     "metadata": {},
     "output_type": "execute_result"
    }
   ],
   "source": [
    "set(testList)"
   ]
  },
  {
   "cell_type": "markdown",
   "metadata": {},
   "source": [
    "Next we'll need a way to count how many times each element in the set repeats in our testList. For this the count() method is ideal. It will go through the given list and count how many times the value we pass in is in the list [5, 6]."
   ]
  },
  {
   "cell_type": "code",
   "execution_count": 8,
   "metadata": {},
   "outputs": [
    {
     "data": {
      "text/plain": [
       "2"
      ]
     },
     "execution_count": 8,
     "metadata": {},
     "output_type": "execute_result"
    }
   ],
   "source": [
    "testList.count(5) # count how many 5s appears in testList"
   ]
  },
  {
   "cell_type": "markdown",
   "metadata": {},
   "source": [
    "Next we'll have to create a dictionary to store our output. Luckily there is the in-built function `dict()`. This can take a key and a value as shown below and will create a dictionary for us [7]. So in the below example `a` and `b` are keys and 2 and 3 are the values."
   ]
  },
  {
   "cell_type": "code",
   "execution_count": 9,
   "metadata": {},
   "outputs": [
    {
     "data": {
      "text/plain": [
       "{'a': 2, 'b': 3}"
      ]
     },
     "execution_count": 9,
     "metadata": {},
     "output_type": "execute_result"
    }
   ],
   "source": [
    "dictionary = dict(a = 2, b = 3)\n",
    "dictionary"
   ]
  },
  {
   "cell_type": "markdown",
   "metadata": {},
   "source": [
    "Now that we understand each step of what must be done we can combine them into one simple line. First we state that the output will be a dictionary by using the `dict()` function. Next, inside the dictionary method our key will be the variable `element` and our value will be the `count()` of that value in the testList (`testList.count(element)`). Lastly we'll create a for loop that will go through the values in the set and count how many times each one appears in the testList[8]. As stated above the set values become our keys and the count of each of these become our values."
   ]
  },
  {
   "cell_type": "code",
   "execution_count": 10,
   "metadata": {},
   "outputs": [
    {
     "data": {
      "text/plain": [
       "{1: 1, 2: 2, 3: 2, 4: 2, 5: 2, 'C': 1, 'B': 2, 'A': 1}"
      ]
     },
     "execution_count": 10,
     "metadata": {},
     "output_type": "execute_result"
    }
   ],
   "source": [
    "dict((element, testList.count(element)) for element in set(testList))"
   ]
  },
  {
   "cell_type": "markdown",
   "metadata": {},
   "source": [
    "Now to create a function with the above and call it `counts()` with our input list as a parameter:"
   ]
  },
  {
   "cell_type": "code",
   "execution_count": 12,
   "metadata": {},
   "outputs": [
    {
     "data": {
      "text/plain": [
       "{1: 1, 2: 2, 3: 2, 4: 2, 5: 2, 'C': 1, 'B': 2, 'A': 1}"
      ]
     },
     "execution_count": 12,
     "metadata": {},
     "output_type": "execute_result"
    }
   ],
   "source": [
    "def counts(inputList):\n",
    "    return dict((element, inputList.count(element)) for element in set(inputList))\n",
    "\n",
    "counts(testList)"
   ]
  },
  {
   "cell_type": "markdown",
   "metadata": {},
   "source": [
    "#### Test counts()\n",
    "One thing our function can't count in a list is a Boolean, or at least there are limitations. Below we have a list of booleans. At first glance the `counts()` function seems to work perfectly on booleans. However it only works for boolean values if we have only booleans in our list or everything else comes before the boolean expressions."
   ]
  },
  {
   "cell_type": "code",
   "execution_count": 15,
   "metadata": {},
   "outputs": [
    {
     "data": {
      "text/plain": [
       "{False: 3, True: 3}"
      ]
     },
     "execution_count": 15,
     "metadata": {},
     "output_type": "execute_result"
    }
   ],
   "source": [
    "inputList = [False, False, False, True, True, True]\n",
    "\n",
    "counts(inputList)"
   ]
  },
  {
   "cell_type": "markdown",
   "metadata": {},
   "source": [
    "Below we can see that it counts the 2s as expected:"
   ]
  },
  {
   "cell_type": "code",
   "execution_count": 16,
   "metadata": {},
   "outputs": [
    {
     "data": {
      "text/plain": [
       "{False: 3, True: 3, 2: 3}"
      ]
     },
     "execution_count": 16,
     "metadata": {},
     "output_type": "execute_result"
    }
   ],
   "source": [
    "inputList = [2, 2, 2, \n",
    "             True, True, True, \n",
    "             False, False, False]\n",
    "\n",
    "counts(inputList)"
   ]
  },
  {
   "cell_type": "markdown",
   "metadata": {},
   "source": [
    "but if we were to add integers after the booleans:"
   ]
  },
  {
   "cell_type": "code",
   "execution_count": 17,
   "metadata": {},
   "outputs": [
    {
     "data": {
      "text/plain": [
       "{False: 3, True: 6, 2: 3}"
      ]
     },
     "execution_count": 17,
     "metadata": {},
     "output_type": "execute_result"
    }
   ],
   "source": [
    "inputList = [2, 2, 2, \n",
    "             True, True, True, \n",
    "             False, False, False, \n",
    "             1, 1, 1]\n",
    "\n",
    "counts(inputList)"
   ]
  },
  {
   "cell_type": "markdown",
   "metadata": {},
   "source": [
    "Our function counts the 1s as 1s but also as `True`. The opposite is true for 0s."
   ]
  },
  {
   "cell_type": "code",
   "execution_count": 35,
   "metadata": {
    "scrolled": true
   },
   "outputs": [
    {
     "data": {
      "text/plain": [
       "{False: 6, True: 6, 2: 2, 'a': 2}"
      ]
     },
     "execution_count": 35,
     "metadata": {},
     "output_type": "execute_result"
    }
   ],
   "source": [
    "inputList = [2, 2, 2, \n",
    "             True, True, True, \n",
    "             False, False, False, \n",
    "             1, 1, 1, \n",
    "             0, 0, 0]\n",
    "\n",
    "counts(inputList)"
   ]
  },
  {
   "cell_type": "markdown",
   "metadata": {},
   "source": [
    "In Python 0 is equivalent to `False` and 1 is equivalent to `True`:"
   ]
  },
  {
   "cell_type": "code",
   "execution_count": 18,
   "metadata": {},
   "outputs": [
    {
     "data": {
      "text/plain": [
       "True"
      ]
     },
     "execution_count": 18,
     "metadata": {},
     "output_type": "execute_result"
    }
   ],
   "source": [
    "0==False"
   ]
  },
  {
   "cell_type": "code",
   "execution_count": 19,
   "metadata": {},
   "outputs": [
    {
     "data": {
      "text/plain": [
       "True"
      ]
     },
     "execution_count": 19,
     "metadata": {},
     "output_type": "execute_result"
    }
   ],
   "source": [
    "1==True"
   ]
  },
  {
   "cell_type": "markdown",
   "metadata": {},
   "source": [
    "Our function seems to work fine with strings."
   ]
  },
  {
   "cell_type": "code",
   "execution_count": 40,
   "metadata": {},
   "outputs": [
    {
     "data": {
      "text/plain": [
       "{False: 3, True: 3, 'b': 3, 'a': 3}"
      ]
     },
     "execution_count": 40,
     "metadata": {},
     "output_type": "execute_result"
    }
   ],
   "source": [
    "inputList = [\"a\", \"a\", \"a\", \n",
    "             True, True, True, \n",
    "             False, False, False,\n",
    "             \"b\", \"b\", \"b\"]\n",
    "\n",
    "counts(inputList)"
   ]
  },
  {
   "cell_type": "markdown",
   "metadata": {},
   "source": [
    "There is also the senario of case sensitivity. What if we wanted to make it so `\"b\"` and `\"B\"` were counted as the same thing. Could we add something to our function to add this feature? \n",
    "\n",
    "We can do this by setting a case sensitivity variable. If it's true it loops through the list and checks for strings [9] and converts them all to lower case [10]. Then runs as normal."
   ]
  },
  {
   "cell_type": "code",
   "execution_count": 101,
   "metadata": {},
   "outputs": [
    {
     "data": {
      "text/plain": [
       "{'hi': 4, 2: 1, 'go': 3}"
      ]
     },
     "execution_count": 101,
     "metadata": {},
     "output_type": "execute_result"
    }
   ],
   "source": [
    "inputList= [\"HI\", \"HI\", \"hi\", \"hi\", \"go\", \"go\", \"Go\", 2]\n",
    "\n",
    "def counts(inputList, caseSensitivity=True):\n",
    "    \n",
    "    if caseSensitivity==False:\n",
    "        for i in range(0, len(inputList)):\n",
    "            if isinstance(inputList[i], str):\n",
    "                inputList[i] = inputList[i].lower()    \n",
    "    \n",
    "    return dict((element, inputList.count(element)) for element in set(inputList)) \n",
    "\n",
    "counts(inputList, False)"
   ]
  },
  {
   "cell_type": "markdown",
   "metadata": {},
   "source": [
    "## Task 2\n",
    "\n"
   ]
  },
  {
   "cell_type": "code",
   "execution_count": 1,
   "metadata": {},
   "outputs": [],
   "source": [
    "import numpy as np\n",
    "# k = number of dice, n = number of rolls\n",
    "def dicerolls(k):\n",
    "    number = [1, 2, 3, 4, 5, 6]\n",
    "    rng = np.random.default_rng()\n",
    "    roll = rng.choice([1, 2, 3, 4 ,5, 6], k)\n",
    "    quantity = []\n",
    "    faceval = 0\n",
    "    for i in range(0, k):\n",
    "        faceval = faceval + roll[i]\n",
    "    quantity.append()\n",
    "    "
   ]
  },
  {
   "cell_type": "code",
   "execution_count": 2,
   "metadata": {
    "scrolled": true
   },
   "outputs": [
    {
     "ename": "TypeError",
     "evalue": "append() takes exactly one argument (0 given)",
     "output_type": "error",
     "traceback": [
      "\u001b[1;31m---------------------------------------------------------------------------\u001b[0m",
      "\u001b[1;31mTypeError\u001b[0m                                 Traceback (most recent call last)",
      "\u001b[1;32m<ipython-input-2-cf85fde32494>\u001b[0m in \u001b[0;36m<module>\u001b[1;34m\u001b[0m\n\u001b[1;32m----> 1\u001b[1;33m \u001b[0mdicerolls\u001b[0m\u001b[1;33m(\u001b[0m\u001b[1;36m2\u001b[0m\u001b[1;33m)\u001b[0m\u001b[1;33m\u001b[0m\u001b[1;33m\u001b[0m\u001b[0m\n\u001b[0m",
      "\u001b[1;32m<ipython-input-1-be22ddfd2c05>\u001b[0m in \u001b[0;36mdicerolls\u001b[1;34m(k)\u001b[0m\n\u001b[0;32m      9\u001b[0m     \u001b[1;32mfor\u001b[0m \u001b[0mi\u001b[0m \u001b[1;32min\u001b[0m \u001b[0mrange\u001b[0m\u001b[1;33m(\u001b[0m\u001b[1;36m0\u001b[0m\u001b[1;33m,\u001b[0m \u001b[0mk\u001b[0m\u001b[1;33m)\u001b[0m\u001b[1;33m:\u001b[0m\u001b[1;33m\u001b[0m\u001b[1;33m\u001b[0m\u001b[0m\n\u001b[0;32m     10\u001b[0m         \u001b[0mfaceval\u001b[0m \u001b[1;33m=\u001b[0m \u001b[0mfaceval\u001b[0m \u001b[1;33m+\u001b[0m \u001b[0mroll\u001b[0m\u001b[1;33m[\u001b[0m\u001b[0mi\u001b[0m\u001b[1;33m]\u001b[0m\u001b[1;33m\u001b[0m\u001b[1;33m\u001b[0m\u001b[0m\n\u001b[1;32m---> 11\u001b[1;33m     \u001b[0mquantity\u001b[0m\u001b[1;33m.\u001b[0m\u001b[0mappend\u001b[0m\u001b[1;33m(\u001b[0m\u001b[1;33m)\u001b[0m\u001b[1;33m\u001b[0m\u001b[1;33m\u001b[0m\u001b[0m\n\u001b[0m\u001b[0;32m     12\u001b[0m \u001b[1;33m\u001b[0m\u001b[0m\n",
      "\u001b[1;31mTypeError\u001b[0m: append() takes exactly one argument (0 given)"
     ]
    }
   ],
   "source": [
    "dicerolls(2)"
   ]
  },
  {
   "cell_type": "code",
   "execution_count": 5,
   "metadata": {},
   "outputs": [],
   "source": [
    "def counts(inputList, caseSensitivity=True):\n",
    "    \n",
    "    if caseSensitivity==False:\n",
    "        for i in range(0, len(inputList)):\n",
    "            if isinstance(inputList[i], str):\n",
    "                inputList[i] = inputList[i].lower()    \n",
    "    \n",
    "    return dict((element, inputList.count(element)) for element in set(inputList)) "
   ]
  },
  {
   "cell_type": "markdown",
   "metadata": {},
   "source": [
    "A fair die gives an equal chance for each side to be rolled. NumPys random number generated function `choice` takes a range of numbers to choose from as its first parameter (below the array `number`) and the number of choices to make (below the variable `k`). With no other parameters `choice` will fairly choose one (each number is as likely to be chosen as the rest). \n",
    "\n",
    "So I create the array of choices `number`, an empty array to hold the rolls of the two die 'rolls'. Then I 'roll' the die and add their values together for the number of times specified as `n`. Each of the `n` rolls is summed and added to the `rolls` list. `k` controls how many die are being rolled each time. Then I use the previously created `counts` method to show the how many times each value appears in the `n` number of trials."
   ]
  },
  {
   "cell_type": "code",
   "execution_count": 11,
   "metadata": {},
   "outputs": [],
   "source": [
    "def dicerolls(k, n):\n",
    "    number = [1, 2, 3, 4, 5, 6]\n",
    "    rng = np.random.default_rng()\n",
    "    rolls = []\n",
    "    for i in range(n):\n",
    "        roll = sum(rng.choice(number, k))\n",
    "        rolls.append(roll)    \n",
    "    outcome = counts(rolls)\n",
    "    print(outcome)"
   ]
  },
  {
   "cell_type": "code",
   "execution_count": 12,
   "metadata": {},
   "outputs": [
    {
     "name": "stdout",
     "output_type": "stream",
     "text": [
      "{3: 8, 4: 11, 5: 12, 6: 12, 7: 14, 8: 19, 9: 12, 10: 8, 11: 2, 12: 2}\n"
     ]
    }
   ],
   "source": [
    "dicerolls(2, 100)"
   ]
  },
  {
   "cell_type": "code",
   "execution_count": 15,
   "metadata": {},
   "outputs": [
    {
     "data": {
      "text/plain": [
       "array([4, 6])"
      ]
     },
     "execution_count": 15,
     "metadata": {},
     "output_type": "execute_result"
    }
   ],
   "source": [
    "rng = np.random.default_rng()\n",
    "rng.choice([1, 2, 3, 4, 5, 6], 2)"
   ]
  },
  {
   "cell_type": "markdown",
   "metadata": {},
   "source": [
    "# References:\n",
    "\n",
    "[1] John Sturtz, \"Dictionaries in Python\", https://realpython.com/python-dicts/\n",
    "\n",
    "[2] sthurlow.com, \"Tuples, Lists, and Dictionaries\", http://sthurlow.com/python/lesson06/ \n",
    "\n",
    "[3] Wikipedia, \"Set (mathematics)\", https://en.wikipedia.org/wiki/Set_(mathematics)\n",
    "\n",
    "[4] programiz.com, \"Python Sets\", https://www.programiz.com/python-programming/set\n",
    "\n",
    "[5] Georgy, \"Answer to: How can I count the occurrences of a list item?\", https://stackoverflow.com/questions/2600191/how-can-i-count-the-occurrences-of-a-list-item\n",
    "\n",
    "[6] w3schools.com, \"Python List count() Method\", https://www.w3schools.com/python/ref_list_count.asp\n",
    "\n",
    "[7] w3schools.com, \"Python dict() Function\", https://www.w3schools.com/python/ref_func_dict.asp\n",
    "\n",
    "[8] user2314737, \"Answer to: How can I count the occurrences of a list item?\", https://stackoverflow.com/questions/2600191/how-can-i-count-the-occurrences-of-a-list-item\n",
    "\n",
    "[9] Sven Marnach, \"Answer to: How to check if type of a variable is string?\", https://stackoverflow.com/questions/4843173/how-to-check-if-type-of-a-variable-is-string\n",
    "\n",
    "[10] YOU, \"Answer to: Convert a Python list with strings all to lowercase or uppercase\", https://stackoverflow.com/questions/1801668/convert-a-python-list-with-strings-all-to-lowercase-or-uppercase"
   ]
  }
 ],
 "metadata": {
  "kernelspec": {
   "display_name": "Python 3",
   "language": "python",
   "name": "python3"
  },
  "language_info": {
   "codemirror_mode": {
    "name": "ipython",
    "version": 3
   },
   "file_extension": ".py",
   "mimetype": "text/x-python",
   "name": "python",
   "nbconvert_exporter": "python",
   "pygments_lexer": "ipython3",
   "version": "3.8.3"
  }
 },
 "nbformat": 4,
 "nbformat_minor": 4
}
