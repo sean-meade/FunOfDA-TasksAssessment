{
 "cells": [
  {
   "cell_type": "markdown",
   "metadata": {},
   "source": [
    "# Tasks for Fundamentals of Data Analytics Module\n",
    "\n",
    "My submission for the solutions to the Tasks Assessment. The author is Seán Meade (G00376471@gmit.ie).\n",
    "\n",
    "***\n",
    "\n",
    "*Modules can't be used to complete the tasks but the following modules are used to explain certain parts and test our code.*"
   ]
  },
  {
   "cell_type": "code",
   "execution_count": null,
   "metadata": {},
   "outputs": [],
   "source": [
    "import"
   ]
  },
  {
   "cell_type": "markdown",
   "metadata": {},
   "source": [
    "**<ins>Task 1</ins>**:\n",
    ">**October 5th, 2020**: Write a Python function called counts that takes a list as\n",
    "input and returns a dictionary of unique items in the list as keys and the number of\n",
    "times each item appears as values. So, the input ['A', 'A', 'B', 'C', 'A']\n",
    "should have output {'A': 3, 'B': 1, 'C': 1} . Your code should not depend\n",
    "on any module from the standard library or otherwise. You should research the task\n",
    "first and include a description with references of your algorithm in the notebook.\n",
    "\n",
    "#### Introduction\n",
    "\n",
    "Lists and dictionaries have some things in common. Both are data structures containing one or more data points. You can change and alter both during the execution of a program, otherwise known as being mutable. You can nest both inside a list or a dictionary. Both can be, but do not have to be, homogeneous. Meaning that you can have numbers, strings and Booleans in the same list or dictionary. [1]\n",
    "\n",
    "The main difference between the two is that lists are ordered, and dictionaries are not. Simply put this means that when you search for `list[0]` it will look up the first element of the list but when you search `dict[0]` it will search for the key value 0 and give you the corresponding value. And that each element in a list has a value but in a dictionary each element has a key and a value.[2]"
   ]
  },
  {
   "cell_type": "code",
   "execution_count": 46,
   "metadata": {},
   "outputs": [],
   "source": [
    "list = [2, 4, 6, 8, 10, 12, 14]\n",
    "\n",
    "dict = {100: 2, 5: 4, \"hi\": 6, 0: 8, \"x\": 10, \"f\": 12, 8.91: 14}"
   ]
  },
  {
   "cell_type": "markdown",
   "metadata": {},
   "source": [
    "This means when I use `list[0]` it will return the first element in the list which here is 2"
   ]
  },
  {
   "cell_type": "code",
   "execution_count": 47,
   "metadata": {},
   "outputs": [
    {
     "data": {
      "text/plain": [
       "2"
      ]
     },
     "execution_count": 47,
     "metadata": {},
     "output_type": "execute_result"
    }
   ],
   "source": [
    "list[0]"
   ]
  },
  {
   "cell_type": "markdown",
   "metadata": {},
   "source": [
    "Where if I search `dict[0]` it will return the value with the corresponding key vaue of `0` which in the example above is 8."
   ]
  },
  {
   "cell_type": "code",
   "execution_count": 49,
   "metadata": {},
   "outputs": [
    {
     "data": {
      "text/plain": [
       "8"
      ]
     },
     "execution_count": 49,
     "metadata": {},
     "output_type": "execute_result"
    }
   ],
   "source": [
    "dict[0]"
   ]
  },
  {
   "cell_type": "markdown",
   "metadata": {},
   "source": [
    "This is an important distinction to make. In our `list` and our `dict` the values are the same. The look to be in the same order (as far as values go) but in fact dictionaries don't have an order. Dictionaries use a pairing system that goes `\"key\": \"value\"`. This becomes more intuative if you look at it visually\n",
    "\n",
    "![Visual Representation of Diction Key: Values](imgs/created/dictionary1.png)\n",
    "\n",
    "As seen above the key `0` corresponds to the value 8 but this could easily be placed anywhere in the dictionary and still be accessed the same. Now to us it's moved but to Python nothing has changed, `dict[0]` will produce the same vale because we haven't changed its key.\n",
    "\n",
    "![Visual Representation of Diction Key: Values 2](imgs/created/dictionary2.png)\n",
    "\n",
    "Where as in a list changing the order matters. Take the list above using `list[0]` will return us the value 2.\n",
    "\n",
    "![Visual Representation of List Positioning](imgs/created/list1.png)\n",
    "\n",
    "Now if we were to move the 2 value the position (or how we access that value) will change.\n",
    "\n",
    "![Visual Representation of List Positioning2](imgs/created/list2.png)\n",
    "\n",
    "Now in order to access the value of 2 we must use `list[3]`."
   ]
  },
  {
   "cell_type": "markdown",
   "metadata": {},
   "source": [
    "#### The problem\n",
    "\n",
    "The problem can be split into two parts. The first determining the unique elements in the list (that will later become our keys) and second to count each of these within the list and use them as the value of our keys. \n",
    "\n",
    "We'll start with the first half of the problem: collecting our key values. For now we will not be interested in upper and lower case so our loop will not be case sensetive. We'll create a very simple `testList` to test our code on."
   ]
  },
  {
   "cell_type": "code",
   "execution_count": 41,
   "metadata": {},
   "outputs": [],
   "source": [
    "testList = [5, 4, 3, 2, 1, 2, 3, 4, 5]"
   ]
  },
  {
   "cell_type": "markdown",
   "metadata": {},
   "source": [
    "We now need to be able to look through our `testList` and pick out the unique elements. So first we need to be able to grab each item in turn. We'll do this with a for loop."
   ]
  },
  {
   "cell_type": "code",
   "execution_count": 38,
   "metadata": {
    "scrolled": true
   },
   "outputs": [
    {
     "name": "stdout",
     "output_type": "stream",
     "text": [
      "5\n",
      "4\n",
      "3\n",
      "2\n",
      "1\n",
      "2\n",
      "3\n",
      "4\n",
      "5\n"
     ]
    }
   ],
   "source": [
    "for i in range(0, len(testList)):\n",
    "    print(testList[i])"
   ]
  },
  {
   "cell_type": "markdown",
   "metadata": {},
   "source": [
    "Next we'll create an empty dictionary to store the unique keys in `outputdict` by using the loop above and then another nested in it stating that if the element is in the set of `testList` (is a unique value) add it as a key to `outputdict`. Just to make sure we have the right output we'll let each key have a value of 0 and print the dictionary at the end."
   ]
  },
  {
   "cell_type": "code",
   "execution_count": 48,
   "metadata": {},
   "outputs": [
    {
     "name": "stdout",
     "output_type": "stream",
     "text": [
      "{1: 0, 2: 0, 3: 0, 4: 0, 5: 0}\n"
     ]
    }
   ],
   "source": [
    "outputdict = {}\n",
    "testList = [5, 4, 3, 2, 1, 2, 3, 4, 5]\n",
    "for i in range(0, len(testList)):\n",
    "    for testList[i] in set(testList):\n",
    "        outputdict[testList[i]] = 0\n",
    "print(outputdict)"
   ]
  },
  {
   "cell_type": "markdown",
   "metadata": {},
   "source": [
    "Lastly we'll use the `count()` function to count how many times each one of our unique elements appears in our list and add these counts as the values for each relative key. Then we'll print the full dictionary.[2]"
   ]
  },
  {
   "cell_type": "code",
   "execution_count": 49,
   "metadata": {},
   "outputs": [
    {
     "name": "stdout",
     "output_type": "stream",
     "text": [
      "{5: 2, 4: 2, 3: 2, 2: 2, 1: 1}\n"
     ]
    }
   ],
   "source": [
    "outputdict = {}\n",
    "testList = [5, 4, 3, 2, 1, 2, 3, 4, 5]\n",
    "for i in range(0, len(testList)):\n",
    "    if (testList[i] not in outputdict):\n",
    "        outputdict[testList[i]] = testList.count(testList[i])\n",
    "        \n",
    "print(outputdict)"
   ]
  },
  {
   "cell_type": "markdown",
   "metadata": {},
   "source": [
    "Now that we understand each element to what must be done here it is in one simple line. First we state that the output will be a dictionary by using the `dict()` function. Next, inside the dictionary (i.e. the `{}` brakets) our key will be the variable `element` and our value will be the `count()` of element in the testList (`testList.count(element)`). Lastly we'll create the loop like above where we'll check if each element is unique (or in the set of testList) and for that add that as a key[3]."
   ]
  },
  {
   "cell_type": "code",
   "execution_count": 51,
   "metadata": {},
   "outputs": [
    {
     "data": {
      "text/plain": [
       "{1: 1, 4: 2, 2: 2, 3: 2, 5: 2}"
      ]
     },
     "execution_count": 51,
     "metadata": {},
     "output_type": "execute_result"
    }
   ],
   "source": [
    "testList = [5, 4, 3, 2, 1, 2, 3, 4, 5]\n",
    "dict({(element, testList.count(element)) for element in set(testList)})"
   ]
  },
  {
   "cell_type": "markdown",
   "metadata": {},
   "source": [
    "Now to create a function with the above and call it `counts()`:"
   ]
  },
  {
   "cell_type": "code",
   "execution_count": 52,
   "metadata": {},
   "outputs": [],
   "source": [
    "def counts(inputList):\n",
    "    return dict({(element, inputList.count(element)) for element in set(inputList)})"
   ]
  },
  {
   "cell_type": "code",
   "execution_count": 56,
   "metadata": {},
   "outputs": [
    {
     "data": {
      "text/plain": [
       "{'one': 2, 1: 2, 'pi': 2, 2: 1, 'B': 2, 'D': 1, 'C': 1, 'A': 3, 'two': 2}"
      ]
     },
     "execution_count": 56,
     "metadata": {},
     "output_type": "execute_result"
    }
   ],
   "source": [
    "inputList = [\"A\", \"B\", \"A\", \"A\", \"C\", \"B\", \"pi\", \"D\", \"one\", 2, \"one\", 1, 1, \"two\", \"two\", \"pi\"]\n",
    "\n",
    "counts(inputList)"
   ]
  },
  {
   "cell_type": "code",
   "execution_count": null,
   "metadata": {},
   "outputs": [],
   "source": []
  },
  {
   "cell_type": "markdown",
   "metadata": {},
   "source": [
    "[1]https://thispointer.com/python-how-to-check-if-an-item-exists-in-list-search-by-value-or-condition/ (for not in)"
   ]
  },
  {
   "cell_type": "markdown",
   "metadata": {},
   "source": [
    "[2] https://stackoverflow.com/questions/2600191/how-can-i-count-the-occurrences-of-a-list-item"
   ]
  },
  {
   "cell_type": "markdown",
   "metadata": {},
   "source": [
    "[2]https://careerkarma.com/blog/python-add-to-dictionary/ (for adding (appending) to dictionary)"
   ]
  },
  {
   "cell_type": "markdown",
   "metadata": {},
   "source": [
    "[3] https://stackoverflow.com/questions/2600191/how-can-i-count-the-occurrences-of-a-list-item"
   ]
  },
  {
   "cell_type": "markdown",
   "metadata": {},
   "source": [
    "As a challenge to myself I tried to make the function for the task before any research. Needless to say it's a line or two longer then the above. BUT! it works :)"
   ]
  },
  {
   "cell_type": "code",
   "execution_count": 58,
   "metadata": {},
   "outputs": [],
   "source": [
    "def counts2(inputList):\n",
    "    keyList = []\n",
    "    for i in range(0, len(inputList)):\n",
    "        for j in range(i + 1, len(inputList)):\n",
    "            if ((inputList[i] != inputList[j]) and (inputList[i] not in keyList)):\n",
    "                keyList.append(inputList[i])\n",
    "            if (inputList[-1] not in keyList):\n",
    "                keyList.append(inputList[-1])\n",
    "    \n",
    "    outputDict = {}\n",
    "    for j in range(0, len(keyList)):\n",
    "        count = 0\n",
    "        for i in range(0, len(inputList)):\n",
    "            if keyList[j] == inputList[i]:\n",
    "                count = count + 1\n",
    "        outputDict[keyList[j]] = count\n",
    "        \n",
    "    return outputDict"
   ]
  },
  {
   "cell_type": "code",
   "execution_count": 59,
   "metadata": {},
   "outputs": [
    {
     "data": {
      "text/plain": [
       "{'A': 3, 'pi': 2, 'B': 2, 'C': 1, 'D': 1, 'one': 2, 2: 1, 1: 2, 'two': 2}"
      ]
     },
     "execution_count": 59,
     "metadata": {},
     "output_type": "execute_result"
    }
   ],
   "source": [
    "counts2(inputList)"
   ]
  },
  {
   "cell_type": "code",
   "execution_count": 60,
   "metadata": {},
   "outputs": [
    {
     "data": {
      "text/plain": [
       "(1, 4)"
      ]
     },
     "execution_count": 60,
     "metadata": {},
     "output_type": "execute_result"
    }
   ],
   "source": [
    "(0.25).as_integer_ratio()"
   ]
  },
  {
   "cell_type": "code",
   "execution_count": null,
   "metadata": {},
   "outputs": [],
   "source": []
  }
 ],
 "metadata": {
  "kernelspec": {
   "display_name": "Python 3",
   "language": "python",
   "name": "python3"
  },
  "language_info": {
   "codemirror_mode": {
    "name": "ipython",
    "version": 3
   },
   "file_extension": ".py",
   "mimetype": "text/x-python",
   "name": "python",
   "nbconvert_exporter": "python",
   "pygments_lexer": "ipython3",
   "version": "3.8.3"
  }
 },
 "nbformat": 4,
 "nbformat_minor": 4
}
