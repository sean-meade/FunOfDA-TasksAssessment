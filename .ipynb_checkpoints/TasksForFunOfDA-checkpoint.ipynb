{
 "cells": [
  {
   "cell_type": "code",
   "execution_count": 1,
   "metadata": {},
   "outputs": [],
   "source": [
    "inputList = [\"A\", \"B\", \"A\", \"A\", \"C\", \"B\", \"D\"]\n",
    "keyList = []"
   ]
  },
  {
   "cell_type": "code",
   "execution_count": 3,
   "metadata": {},
   "outputs": [
    {
     "name": "stdout",
     "output_type": "stream",
     "text": [
      "['A', 'D', 'B', 'C']\n"
     ]
    }
   ],
   "source": [
    "for i in range(0, len(inputList)):\n",
    "    for j in range(i + 1, len(inputList)):\n",
    "        if ((inputList[i] != inputList[j]) and (inputList[i] not in keyList)):\n",
    "            keyList.append(inputList[i])\n",
    "        if (inputList[-1] not in keyList):\n",
    "            keyList.append(inputList[-1])\n",
    "            \n",
    "print(keyList)"
   ]
  },
  {
   "cell_type": "markdown",
   "metadata": {},
   "source": [
    "[1]https://thispointer.com/python-how-to-check-if-an-item-exists-in-list-search-by-value-or-condition/ (for not in)"
   ]
  },
  {
   "cell_type": "code",
   "execution_count": 6,
   "metadata": {},
   "outputs": [],
   "source": [
    "outputDict = {}\n",
    "for j in range(0, len(keyList)):\n",
    "    count = 0\n",
    "    for i in range(0, len(inputList)):\n",
    "        if keyList[j] == inputList[i]:\n",
    "            count = count + 1\n",
    "    outputDict[keyList[j]] = count\n",
    "            "
   ]
  },
  {
   "cell_type": "code",
   "execution_count": 7,
   "metadata": {},
   "outputs": [
    {
     "data": {
      "text/plain": [
       "{'A': 3, 'D': 1, 'B': 2, 'C': 1}"
      ]
     },
     "execution_count": 7,
     "metadata": {},
     "output_type": "execute_result"
    }
   ],
   "source": [
    "outputDict"
   ]
  },
  {
   "cell_type": "code",
   "execution_count": null,
   "metadata": {},
   "outputs": [],
   "source": []
  }
 ],
 "metadata": {
  "kernelspec": {
   "display_name": "Python 3",
   "language": "python",
   "name": "python3"
  },
  "language_info": {
   "codemirror_mode": {
    "name": "ipython",
    "version": 3
   },
   "file_extension": ".py",
   "mimetype": "text/x-python",
   "name": "python",
   "nbconvert_exporter": "python",
   "pygments_lexer": "ipython3",
   "version": "3.8.3"
  }
 },
 "nbformat": 4,
 "nbformat_minor": 4
}
