{
 "cells": [
  {
   "cell_type": "markdown",
   "metadata": {},
   "source": [
    "# Tasks for Fundamentals of Data Analytics Module\n",
    "\n",
    "My submission for the solutions to the Tasks Assessment. The author is Seán Meade (G00376471@gmit.ie).\n",
    "\n",
    "***\n",
    "\n",
    "*Modules can't be used to complete the tasks but the following modules are used to explain certain parts and test our code.*"
   ]
  },
  {
   "cell_type": "markdown",
   "metadata": {},
   "source": [
    "**<ins>Task 1</ins>**:\n",
    ">**October 5th, 2020**: Write a Python function called counts that takes a list as\n",
    "input and returns a dictionary of unique items in the list as keys and the number of\n",
    "times each item appears as values. So, the input ['A', 'A', 'B', 'C', 'A']\n",
    "should have output {'A': 3, 'B': 1, 'C': 1} . Your code should not depend\n",
    "on any module from the standard library or otherwise. You should research the task\n",
    "first and include a description with references of your algorithm in the notebook.\n",
    "\n",
    "#### Introduction\n",
    "\n",
    "Lists and dictionaries have some things in common. Both are data structures containing one or more data points. You can change and alter both during the execution of a program, otherwise known as being mutable. You can nest both inside a list or a dictionary. Both can be, but do not have to be, homogeneous. Meaning that you can have numbers, strings and Booleans in the same list or dictionary. [1]\n",
    "\n",
    "The main difference between the two is that lists are ordered, and dictionaries are not. Simply put this means that when you search for `list[0]` it will look up the first element of the list but when you search `dict[0]` it will search for the key value 0 and give you the corresponding value. And that each element in a list has a value but in a dictionary each element has a key and a value.[2]"
   ]
  },
  {
   "cell_type": "code",
   "execution_count": 1,
   "metadata": {},
   "outputs": [],
   "source": [
    "list = [2, 4, 6, 8, 10, 12, 14]\n",
    "\n",
    "dictionary = {100: 2, 5: 4, \"hi\": 6, 0: 8, \"x\": 10, \"f\": 12, 8.91: 14}"
   ]
  },
  {
   "cell_type": "markdown",
   "metadata": {},
   "source": [
    "This means when I use `list[0]` it will return the first element in the list which here is 2"
   ]
  },
  {
   "cell_type": "code",
   "execution_count": 2,
   "metadata": {},
   "outputs": [
    {
     "data": {
      "text/plain": [
       "2"
      ]
     },
     "execution_count": 2,
     "metadata": {},
     "output_type": "execute_result"
    }
   ],
   "source": [
    "list[0]"
   ]
  },
  {
   "cell_type": "markdown",
   "metadata": {},
   "source": [
    "Where if I search `dict[0]` it will return the value with the corresponding key vaue of `0` which in the example above is 8."
   ]
  },
  {
   "cell_type": "code",
   "execution_count": 3,
   "metadata": {},
   "outputs": [
    {
     "data": {
      "text/plain": [
       "8"
      ]
     },
     "execution_count": 3,
     "metadata": {},
     "output_type": "execute_result"
    }
   ],
   "source": [
    "dictionary[0]"
   ]
  },
  {
   "cell_type": "markdown",
   "metadata": {},
   "source": [
    "This is an important distinction to make. In our `list` and our `dict` the values are the same. The look to be in the same order (as far as values go) but in fact dictionaries don't have an order. Dictionaries use a pairing system that goes `\"key\": \"value\"`. This becomes more intuative if you look at it visually\n",
    "\n",
    "![Visual Representation of Diction Key: Values](imgs/created/dictionary1.png)\n",
    "\n",
    "As seen above the key `0` corresponds to the value 8 but this could easily be placed anywhere in the dictionary and still be accessed the same. Now to us it's moved but to Python nothing has changed, `dict[0]` will produce the same vale because we haven't changed its key.\n",
    "\n",
    "![Visual Representation of Diction Key: Values 2](imgs/created/dictionary2.png)\n",
    "\n",
    "Where as in a list changing the order matters. Take the list above using `list[0]` will return us the value 2.\n",
    "\n",
    "![Visual Representation of List Positioning](imgs/created/list1.png)\n",
    "\n",
    "Now if we were to move the 2 value the position (or how we access that value) will change.\n",
    "\n",
    "![Visual Representation of List Positioning2](imgs/created/list2.png)\n",
    "\n",
    "Now in order to access the value of 2 we must use `list[3]`."
   ]
  },
  {
   "cell_type": "markdown",
   "metadata": {},
   "source": [
    "#### The problem\n",
    "\n",
    "The problem can be split into two parts. The first determining the unique elements in the list (that will later become our keys) and second to count each of these within the list and use them as the value of our keys. \n",
    "\n",
    "We'll start with the first half of the problem: collecting our key values. For now we will not be interested in upper and lower case so our loop will not be case sensetive. We'll create a very simple `testList` to test our code on."
   ]
  },
  {
   "cell_type": "code",
   "execution_count": 4,
   "metadata": {},
   "outputs": [],
   "source": [
    "testList = [5, 4, 3, 2, 1, 2, 3, 4, 5, \"A\", \"B\", \"C\", \"B\"]"
   ]
  },
  {
   "cell_type": "markdown",
   "metadata": {},
   "source": [
    "We now need to be able to look through our `testList` and pick out the unique elements. So first we need to be able to grab each item in turn. We can do this with the `set()` method. A set in mathematics is \"a well-defined collection of distinct objects\"[4]. By distinct objects it means unique elements. So passing a list into `set()` will return a set of all the elements in our list with no repeats."
   ]
  },
  {
   "cell_type": "code",
   "execution_count": 5,
   "metadata": {
    "scrolled": false
   },
   "outputs": [
    {
     "data": {
      "text/plain": [
       "{1, 2, 3, 4, 5, 'A', 'B', 'C'}"
      ]
     },
     "execution_count": 5,
     "metadata": {},
     "output_type": "execute_result"
    }
   ],
   "source": [
    "set(testList)"
   ]
  },
  {
   "cell_type": "markdown",
   "metadata": {},
   "source": [
    "Next we'll need a way to count how many times each element in the set repeats in our testList. For this the count() method is ideal. It will count how many times the value we pass is in the list we run it against [5].\n",
    "\n",
    "Lastly we'll use the `count()` function to count how many times each one of our unique elements appears in our list and add these counts as the values for each relative key. Then we'll print the full dictionary.[2]"
   ]
  },
  {
   "cell_type": "code",
   "execution_count": 6,
   "metadata": {},
   "outputs": [
    {
     "data": {
      "text/plain": [
       "2"
      ]
     },
     "execution_count": 6,
     "metadata": {},
     "output_type": "execute_result"
    }
   ],
   "source": [
    "testList.count(5) # count how many 5s appears in testList"
   ]
  },
  {
   "cell_type": "markdown",
   "metadata": {},
   "source": [
    "Next we'll have to create a dictionary to store our output. Luckily there is the in-built function `dict()`. This can take a key and a value as shown below and will create a dictionary for us [6]"
   ]
  },
  {
   "cell_type": "code",
   "execution_count": 7,
   "metadata": {},
   "outputs": [
    {
     "data": {
      "text/plain": [
       "{'a': 2, 'b': 3}"
      ]
     },
     "execution_count": 7,
     "metadata": {},
     "output_type": "execute_result"
    }
   ],
   "source": [
    "dictionary = dict(a = 2, b = 3)\n",
    "dictionary"
   ]
  },
  {
   "cell_type": "markdown",
   "metadata": {},
   "source": [
    "Now that we understand each element to what must be done here it is in one simple line. First we state that the output will be a dictionary by using the `dict()` function. Next, inside the dictionary method our key will be the variable `element` and our value will be the `count()` of element in the testList (`testList.count(element)`). Lastly we'll create a loop to check if each element is unique (or in the set of testList) and for that add that as a key[3]."
   ]
  },
  {
   "cell_type": "code",
   "execution_count": 8,
   "metadata": {},
   "outputs": [
    {
     "data": {
      "text/plain": [
       "{1: 1, 2: 2, 3: 2, 4: 2, 5: 2}"
      ]
     },
     "execution_count": 8,
     "metadata": {},
     "output_type": "execute_result"
    }
   ],
   "source": [
    "testList = [5, 4, 3, 2, 1, 2, 3, 4, 5]\n",
    "dict((element, testList.count(element)) for element in set(testList))"
   ]
  },
  {
   "cell_type": "markdown",
   "metadata": {},
   "source": [
    "Now to create a function with the above and call it `counts()`:"
   ]
  },
  {
   "cell_type": "code",
   "execution_count": 19,
   "metadata": {},
   "outputs": [
    {
     "data": {
      "text/plain": [
       "{1: 2, 2: 1, 'two': 2, 'B': 2, 'one': 2, 'C': 1, 'D': 1, 'pi': 2, 'A': 3}"
      ]
     },
     "execution_count": 19,
     "metadata": {},
     "output_type": "execute_result"
    }
   ],
   "source": [
    "def counts(inputList):\n",
    "    return dict((element, inputList.count(element)) for element in set(inputList))\n",
    "\n",
    "inputList = [\"A\", \"B\", \"A\", \"A\", \"C\", \"B\", \"pi\", \"D\", \"one\", 2, \"one\", 1, 1, \"two\", \"two\", \"pi\"]\n",
    "counts(inputList)"
   ]
  },
  {
   "cell_type": "markdown",
   "metadata": {},
   "source": [
    "#### Test counts()\n",
    "One thing our function can't count in a list is a Boolean. See below we have a list of booleans. At first glance the `counts()` function seems to work perfectly on booleans. However it only works for boolean values if we have only booleans in our list or everything else comes before the boolean expressions."
   ]
  },
  {
   "cell_type": "code",
   "execution_count": 23,
   "metadata": {},
   "outputs": [
    {
     "data": {
      "text/plain": [
       "{False: 3, True: 3}"
      ]
     },
     "execution_count": 23,
     "metadata": {},
     "output_type": "execute_result"
    }
   ],
   "source": [
    "inputList = [False, False, False, True, True, True]\n",
    "\n",
    "counts(inputList)"
   ]
  },
  {
   "cell_type": "markdown",
   "metadata": {},
   "source": [
    "Below we can see that it counts the 2s:"
   ]
  },
  {
   "cell_type": "code",
   "execution_count": 26,
   "metadata": {},
   "outputs": [
    {
     "data": {
      "text/plain": [
       "{False: 3, True: 3, 2: 3}"
      ]
     },
     "execution_count": 26,
     "metadata": {},
     "output_type": "execute_result"
    }
   ],
   "source": [
    "inputList = [2, 2, 2, \n",
    "             True, True, True, \n",
    "             False, False, False]\n",
    "\n",
    "counts(inputList)"
   ]
  },
  {
   "cell_type": "markdown",
   "metadata": {},
   "source": [
    "but if we were to add elements after the booleans:"
   ]
  },
  {
   "cell_type": "code",
   "execution_count": 31,
   "metadata": {},
   "outputs": [
    {
     "data": {
      "text/plain": [
       "{False: 3, True: 6, 2: 3}"
      ]
     },
     "execution_count": 31,
     "metadata": {},
     "output_type": "execute_result"
    }
   ],
   "source": [
    "inputList = [2, 2, 2, \n",
    "             True, True, True, \n",
    "             False, False, False, \n",
    "             1, 1, 1]\n",
    "\n",
    "counts(inputList)"
   ]
  },
  {
   "cell_type": "markdown",
   "metadata": {},
   "source": [
    "Our function counts the 1s as 1s but also as `True`. The opposite is true for 0s."
   ]
  },
  {
   "cell_type": "code",
   "execution_count": 35,
   "metadata": {
    "scrolled": true
   },
   "outputs": [
    {
     "data": {
      "text/plain": [
       "{False: 6, True: 6, 2: 2, 'a': 2}"
      ]
     },
     "execution_count": 35,
     "metadata": {},
     "output_type": "execute_result"
    }
   ],
   "source": [
    "inputList = [2, 2, 2, \n",
    "             True, True, True, \n",
    "             False, False, False, \n",
    "             1, 1, 1, \n",
    "             0, 0, 0]\n",
    "\n",
    "counts(inputList)"
   ]
  },
  {
   "cell_type": "code",
   "execution_count": 36,
   "metadata": {},
   "outputs": [
    {
     "data": {
      "text/plain": [
       "True"
      ]
     },
     "execution_count": 36,
     "metadata": {},
     "output_type": "execute_result"
    }
   ],
   "source": [
    "0==False"
   ]
  },
  {
   "cell_type": "code",
   "execution_count": 37,
   "metadata": {},
   "outputs": [
    {
     "data": {
      "text/plain": [
       "True"
      ]
     },
     "execution_count": 37,
     "metadata": {},
     "output_type": "execute_result"
    }
   ],
   "source": [
    "1==True"
   ]
  },
  {
   "cell_type": "markdown",
   "metadata": {},
   "source": [
    "Our function seems to work fine with strings."
   ]
  },
  {
   "cell_type": "code",
   "execution_count": 40,
   "metadata": {},
   "outputs": [
    {
     "data": {
      "text/plain": [
       "{False: 3, True: 3, 'b': 3, 'a': 3}"
      ]
     },
     "execution_count": 40,
     "metadata": {},
     "output_type": "execute_result"
    }
   ],
   "source": [
    "inputList = [\"a\", \"a\", \"a\", \n",
    "             True, True, True, \n",
    "             False, False, False,\n",
    "             \"b\", \"b\", \"b\"]\n",
    "\n",
    "counts(inputList)"
   ]
  },
  {
   "cell_type": "markdown",
   "metadata": {},
   "source": [
    "There is also the senario of case sensitivity. What is we wanted to make it so `\"b\"` and `\"B\"` were counted as the same thing. Could we add something to our function to add this feature?"
   ]
  },
  {
   "cell_type": "code",
   "execution_count": null,
   "metadata": {},
   "outputs": [],
   "source": []
  },
  {
   "cell_type": "markdown",
   "metadata": {},
   "source": [
    "[1]https://thispointer.com/python-how-to-check-if-an-item-exists-in-list-search-by-value-or-condition/ (for not in)"
   ]
  },
  {
   "cell_type": "markdown",
   "metadata": {},
   "source": [
    "[2] https://stackoverflow.com/questions/2600191/how-can-i-count-the-occurrences-of-a-list-item"
   ]
  },
  {
   "cell_type": "markdown",
   "metadata": {},
   "source": [
    "[2]https://careerkarma.com/blog/python-add-to-dictionary/ (for adding (appending) to dictionary)"
   ]
  },
  {
   "cell_type": "markdown",
   "metadata": {},
   "source": [
    "[3] https://stackoverflow.com/questions/2600191/how-can-i-count-the-occurrences-of-a-list-item"
   ]
  },
  {
   "cell_type": "markdown",
   "metadata": {},
   "source": [
    "[4] https://en.wikipedia.org/wiki/Set_(mathematics) \n",
    "[5] https://www.w3schools.com/python/ref_list_count.asp\n",
    "[6] https://www.w3schools.com/python/ref_func_dict.asp"
   ]
  },
  {
   "cell_type": "markdown",
   "metadata": {},
   "source": [
    "As a challenge to myself I tried to make the function for the task before any research. Needless to say it's a line or two longer then the above. BUT! it works :)"
   ]
  },
  {
   "cell_type": "code",
   "execution_count": 18,
   "metadata": {},
   "outputs": [
    {
     "data": {
      "text/plain": [
       "{'A': 3, 'pi': 2, 'B': 2, True: 3, 'C': 1, 'D': 1, 'one': 2, 2: 1, 'two': 2}"
      ]
     },
     "execution_count": 18,
     "metadata": {},
     "output_type": "execute_result"
    }
   ],
   "source": [
    "def counts2(inputList):\n",
    "    keyList = []\n",
    "    for i in range(0, len(inputList)):\n",
    "        for j in range(i + 1, len(inputList)):\n",
    "            if ((inputList[i] != inputList[j]) and (inputList[i] not in keyList)):\n",
    "                keyList.append(inputList[i])\n",
    "            if (inputList[-1] not in keyList):\n",
    "                keyList.append(inputList[-1])\n",
    "    \n",
    "    outputDict = {}\n",
    "    for j in range(0, len(keyList)):\n",
    "        count = 0\n",
    "        for i in range(0, len(inputList)):\n",
    "            if keyList[j] == inputList[i]:\n",
    "                count = count + 1\n",
    "        outputDict[keyList[j]] = count\n",
    "        \n",
    "    return outputDict\n",
    "\n",
    "counts2(inputList)"
   ]
  },
  {
   "cell_type": "code",
   "execution_count": null,
   "metadata": {},
   "outputs": [],
   "source": []
  }
 ],
 "metadata": {
  "kernelspec": {
   "display_name": "Python 3",
   "language": "python",
   "name": "python3"
  },
  "language_info": {
   "codemirror_mode": {
    "name": "ipython",
    "version": 3
   },
   "file_extension": ".py",
   "mimetype": "text/x-python",
   "name": "python",
   "nbconvert_exporter": "python",
   "pygments_lexer": "ipython3",
   "version": "3.8.3"
  }
 },
 "nbformat": 4,
 "nbformat_minor": 4
}
