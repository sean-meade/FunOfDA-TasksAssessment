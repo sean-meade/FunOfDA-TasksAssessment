{
 "cells": [
  {
   "cell_type": "markdown",
   "metadata": {},
   "source": [
    "# Tasks for Fundamentals of Data Analytics Module\n",
    "\n",
    "My submission for the solutions to the Tasks Assessment. The author is Seán Meade (G00376471@gmit.ie).\n",
    "\n",
    "***\n",
    "\n",
    "*Modules can't be used to complete the first task but the following modules are used to explain certain parts, test our code and to solve the other tasks.*"
   ]
  },
  {
   "cell_type": "code",
   "execution_count": 1,
   "metadata": {},
   "outputs": [],
   "source": [
    "import numpy as np\n",
    "import numpy as np\n",
    "import matplotlib.pyplot as plt"
   ]
  },
  {
   "cell_type": "markdown",
   "metadata": {},
   "source": [
    "### Table of Contents<a class=\"anchor\" id=\"TOC\"></a>\n",
    "\n",
    "* [Task 1: Count elements in a list](#task_1)\n",
    "\n",
    "* [Task 2: Combined number rolled from k die n times](#task_2)\n",
    "* [Task 3: Coin flip bell-shaped curve](#task_3)\n",
    "* [Task 4: kNN on Fisher's Iris data set](#task_4)\n",
    "* [References](#references)\n"
   ]
  },
  {
   "cell_type": "markdown",
   "metadata": {},
   "source": [
    "## Task 1: Count elements in a list<a class=\"anchor\" id=\"task_1\"></a>\n",
    "\n",
    ">**October 5th, 2020**: Write a Python function called counts that takes a list as\n",
    "input and returns a dictionary of unique items in the list as keys and the number of\n",
    "times each item appears as values. So, the input ['A', 'A', 'B', 'C', 'A']\n",
    "should have output {'A': 3, 'B': 1, 'C': 1} . Your code should not depend\n",
    "on any module from the standard library or otherwise. You should research the task\n",
    "first and include a description with references of your algorithm in the notebook.\n",
    "\n",
    "#### Introduction\n",
    "\n",
    "Lists and dictionaries have some things in common. Both are data structures containing one or more data points. You can change and alter both during the execution of a program, otherwise known as being mutable. You can nest both inside a list or a dictionary. Both can be, but do not have to be, homogeneous. Meaning that you can have numbers, strings and Booleans in the same list or dictionary. [1]\n",
    "\n",
    "| Feature | List | Dictionary |\n",
    "|---------|------|------------|\n",
    "| Mutable | Yes  |   Yes      |\n",
    "| Homogeneous | Yes | Yes |\n",
    "| Nestable | Yes | Yes |\n",
    "| Ordered | Yes | No |\n",
    "\n",
    "The main difference between the two is that lists are ordered, and dictionaries are not. Simply put this means that when you search for `list[0]` it will look up the first element of the list but when you search `dict[0]` it will search for the key value 0 and give you the corresponding value. And that each element in a list has a value but in a dictionary each element has a key and a value.[1]"
   ]
  },
  {
   "cell_type": "code",
   "execution_count": 2,
   "metadata": {},
   "outputs": [],
   "source": [
    "list_example = [2, 4, 6, 8, 10, 12, 14]\n",
    "\n",
    "dictionary = {100: 2, 5: 4, \"hi\": 6, 0: 8, \"x\": 10, \"f\": 12, 8.91: 14}"
   ]
  },
  {
   "cell_type": "markdown",
   "metadata": {},
   "source": [
    "This means when I use `list_example[0]` it will return the first element in the list which here is 2"
   ]
  },
  {
   "cell_type": "code",
   "execution_count": 3,
   "metadata": {},
   "outputs": [
    {
     "data": {
      "text/plain": [
       "2"
      ]
     },
     "execution_count": 3,
     "metadata": {},
     "output_type": "execute_result"
    }
   ],
   "source": [
    "list_example[0]"
   ]
  },
  {
   "cell_type": "markdown",
   "metadata": {},
   "source": [
    "Where if I search `dictionary[0]` it will return the value with the corresponding key vaue of `0` which in the example above is 8."
   ]
  },
  {
   "cell_type": "code",
   "execution_count": 4,
   "metadata": {},
   "outputs": [
    {
     "data": {
      "text/plain": [
       "8"
      ]
     },
     "execution_count": 4,
     "metadata": {},
     "output_type": "execute_result"
    }
   ],
   "source": [
    "dictionary[0]"
   ]
  },
  {
   "cell_type": "markdown",
   "metadata": {},
   "source": [
    "This is an important distinction to make. In our `list` and our `dict` the values are the same. They look to be in the same order (as far as values go) but in fact dictionaries don't have an order. Dictionaries use a pairing system that goes `\"key\": \"value\"`. This becomes more intuative if you look at it visually [2].\n",
    "\n",
    "![Visual Representation of Diction Key: Values](imgs/created/dictionary1.png)\n",
    "\n",
    "As seen above the key `0` corresponds to the value 8 but this could easily be placed anywhere in the dictionary and still be accessed the same. Now to us it's moved but to Python nothing has changed, `dict[0]` will produce the same value because we haven't changed its key.\n",
    "\n",
    "![Visual Representation of Diction Key: Values 2](imgs/created/dictionary2.png)\n",
    "\n",
    "Where as in a list changing the order matters. Take the list above using `list[0]` will return us the value 2.\n",
    "\n",
    "![Visual Representation of List Positioning](imgs/created/list1.png)\n",
    "\n",
    "Now if we were to move the 2 value the position (or how we access that value) will change.\n",
    "\n",
    "![Visual Representation of List Positioning2](imgs/created/list2.png)\n",
    "\n",
    "Now in order to access the value of 2 we must use `list[3]`."
   ]
  },
  {
   "cell_type": "markdown",
   "metadata": {},
   "source": [
    "#### The problem\n",
    "\n",
    "The problem can be split into three parts. The first determining the unique elements in the list (that will later become our keys). Second the count of each of these within the list and use them as the value of our keys. Lastly we'll have to create the dictionary with or now obtained keys and values.\n",
    "\n",
    "We'll start with the first half of the problem: collecting our key values. For now we will not be interested in upper and lower case letters so our function will not be case sensetive. We'll create a very simple `testList` to test our code on."
   ]
  },
  {
   "cell_type": "code",
   "execution_count": 5,
   "metadata": {},
   "outputs": [],
   "source": [
    "testList = [5, 4, 3, 2, 1, 2, 3, 4, 5, \"A\", \"B\", \"C\", \"B\"]"
   ]
  },
  {
   "cell_type": "markdown",
   "metadata": {},
   "source": [
    "We now need to be able to look through our `testList` and pick out the unique elements. So first we need to be able to grab each item in turn. We can do this with the `set()` method. A set in mathematics is \"a well-defined collection of distinct objects\" [3]. By distinct objects in our terms it means unique elements. So passing a list into `set()` will return a set containing of distinct (or unique) objects (or elements) [4]."
   ]
  },
  {
   "cell_type": "code",
   "execution_count": 6,
   "metadata": {
    "scrolled": false
   },
   "outputs": [
    {
     "data": {
      "text/plain": [
       "{1, 2, 3, 4, 5, 'A', 'B', 'C'}"
      ]
     },
     "execution_count": 6,
     "metadata": {},
     "output_type": "execute_result"
    }
   ],
   "source": [
    "set(testList)"
   ]
  },
  {
   "cell_type": "markdown",
   "metadata": {},
   "source": [
    "Next we'll need a way to count how many times each element in the set repeats in our testList. For this the count() method is ideal. It will go through the given list and count how many times the value we pass in is in the list [5, 6]."
   ]
  },
  {
   "cell_type": "code",
   "execution_count": 7,
   "metadata": {},
   "outputs": [
    {
     "data": {
      "text/plain": [
       "2"
      ]
     },
     "execution_count": 7,
     "metadata": {},
     "output_type": "execute_result"
    }
   ],
   "source": [
    "testList.count(5) # count how many 5s appears in testList"
   ]
  },
  {
   "cell_type": "markdown",
   "metadata": {},
   "source": [
    "Next we'll have to create a dictionary to store our output. Luckily there is the in-built function `dict()`. This can take a key and a value as shown below and will create a dictionary for us [7]. So in the below example `a` and `b` are keys and 2 and 3 are the values."
   ]
  },
  {
   "cell_type": "code",
   "execution_count": 8,
   "metadata": {},
   "outputs": [
    {
     "data": {
      "text/plain": [
       "{'a': 2, 'b': 3}"
      ]
     },
     "execution_count": 8,
     "metadata": {},
     "output_type": "execute_result"
    }
   ],
   "source": [
    "dictionary = dict(a = 2, b = 3)\n",
    "dictionary"
   ]
  },
  {
   "cell_type": "markdown",
   "metadata": {},
   "source": [
    "Now that we understand each step of what must be done we can combine them into one simple line. First we state that the output will be a dictionary by using the `dict()` function. Next, inside the dictionary method our key will be the variable `element` and our value will be the `count()` of that value in the testList (`testList.count(element)`). Lastly we'll create a for loop that will go through the values in the set and count how many times each one appears in the testList[8]. As stated above the set values become our keys and the count of each of these become our values."
   ]
  },
  {
   "cell_type": "code",
   "execution_count": 9,
   "metadata": {},
   "outputs": [
    {
     "data": {
      "text/plain": [
       "{1: 1, 2: 2, 3: 2, 4: 2, 5: 2, 'C': 1, 'A': 1, 'B': 2}"
      ]
     },
     "execution_count": 9,
     "metadata": {},
     "output_type": "execute_result"
    }
   ],
   "source": [
    "dict((element, testList.count(element)) for element in set(testList))"
   ]
  },
  {
   "cell_type": "markdown",
   "metadata": {},
   "source": [
    "Now to create a function with the above and call it `counts()` with our input list as a parameter:"
   ]
  },
  {
   "cell_type": "code",
   "execution_count": 10,
   "metadata": {},
   "outputs": [
    {
     "data": {
      "text/plain": [
       "{1: 1, 2: 2, 3: 2, 4: 2, 5: 2, 'C': 1, 'A': 1, 'B': 2}"
      ]
     },
     "execution_count": 10,
     "metadata": {},
     "output_type": "execute_result"
    }
   ],
   "source": [
    "def counts(inputList):\n",
    "    return dict((element, inputList.count(element)) for element in set(inputList))\n",
    "\n",
    "counts(testList)"
   ]
  },
  {
   "cell_type": "markdown",
   "metadata": {},
   "source": [
    "#### Test counts()\n",
    "One thing our function can't count in a list is a Boolean, or at least there are limitations. Below we have a list of booleans. At first glance the `counts()` function seems to work perfectly on booleans. However it only works for boolean values if we have only booleans in our list or everything else comes before the boolean expressions."
   ]
  },
  {
   "cell_type": "code",
   "execution_count": 11,
   "metadata": {},
   "outputs": [
    {
     "data": {
      "text/plain": [
       "{False: 3, True: 3}"
      ]
     },
     "execution_count": 11,
     "metadata": {},
     "output_type": "execute_result"
    }
   ],
   "source": [
    "inputList = [False, False, False, True, True, True]\n",
    "\n",
    "counts(inputList)"
   ]
  },
  {
   "cell_type": "markdown",
   "metadata": {},
   "source": [
    "Below we can see that it counts the 2s as expected:"
   ]
  },
  {
   "cell_type": "code",
   "execution_count": 12,
   "metadata": {},
   "outputs": [
    {
     "data": {
      "text/plain": [
       "{False: 3, True: 3, 2: 3}"
      ]
     },
     "execution_count": 12,
     "metadata": {},
     "output_type": "execute_result"
    }
   ],
   "source": [
    "inputList = [2, 2, 2, \n",
    "             True, True, True, \n",
    "             False, False, False]\n",
    "\n",
    "counts(inputList)"
   ]
  },
  {
   "cell_type": "markdown",
   "metadata": {},
   "source": [
    "but if we were to add integers after the booleans:"
   ]
  },
  {
   "cell_type": "code",
   "execution_count": 13,
   "metadata": {},
   "outputs": [
    {
     "data": {
      "text/plain": [
       "{False: 3, True: 6, 2: 3}"
      ]
     },
     "execution_count": 13,
     "metadata": {},
     "output_type": "execute_result"
    }
   ],
   "source": [
    "inputList = [2, 2, 2, \n",
    "             True, True, True, \n",
    "             False, False, False, \n",
    "             1, 1, 1]\n",
    "\n",
    "counts(inputList)"
   ]
  },
  {
   "cell_type": "markdown",
   "metadata": {},
   "source": [
    "Our function counts the 1s as 1s but also as `True`. The opposite is true for 0s."
   ]
  },
  {
   "cell_type": "code",
   "execution_count": 14,
   "metadata": {
    "scrolled": true
   },
   "outputs": [
    {
     "data": {
      "text/plain": [
       "{False: 6, True: 6, 2: 3}"
      ]
     },
     "execution_count": 14,
     "metadata": {},
     "output_type": "execute_result"
    }
   ],
   "source": [
    "inputList = [2, 2, 2, \n",
    "             True, True, True, \n",
    "             False, False, False, \n",
    "             1, 1, 1, \n",
    "             0, 0, 0]\n",
    "\n",
    "counts(inputList)"
   ]
  },
  {
   "cell_type": "markdown",
   "metadata": {},
   "source": [
    "In Python 0 is equivalent to `False` and 1 is equivalent to `True`:"
   ]
  },
  {
   "cell_type": "code",
   "execution_count": 15,
   "metadata": {},
   "outputs": [
    {
     "data": {
      "text/plain": [
       "True"
      ]
     },
     "execution_count": 15,
     "metadata": {},
     "output_type": "execute_result"
    }
   ],
   "source": [
    "0==False"
   ]
  },
  {
   "cell_type": "code",
   "execution_count": 16,
   "metadata": {},
   "outputs": [
    {
     "data": {
      "text/plain": [
       "True"
      ]
     },
     "execution_count": 16,
     "metadata": {},
     "output_type": "execute_result"
    }
   ],
   "source": [
    "1==True"
   ]
  },
  {
   "cell_type": "markdown",
   "metadata": {},
   "source": [
    "Our function seems to work fine with strings."
   ]
  },
  {
   "cell_type": "code",
   "execution_count": 17,
   "metadata": {},
   "outputs": [
    {
     "data": {
      "text/plain": [
       "{False: 3, True: 3, 'a': 3, 'b': 3}"
      ]
     },
     "execution_count": 17,
     "metadata": {},
     "output_type": "execute_result"
    }
   ],
   "source": [
    "inputList = [\"a\", \"a\", \"a\", \n",
    "             True, True, True, \n",
    "             False, False, False,\n",
    "             \"b\", \"b\", \"b\"]\n",
    "\n",
    "counts(inputList)"
   ]
  },
  {
   "cell_type": "markdown",
   "metadata": {},
   "source": [
    "There is also the senario of case sensitivity. What if we wanted to make it so `\"b\"` and `\"B\"` were counted as the same thing. Could we add something to our function to add this feature? \n",
    "\n",
    "We can do this by setting a case sensitivity variable. If it's true it loops through the list and checks for strings [9] and converts them all to lower case [10]. Then runs as normal."
   ]
  },
  {
   "cell_type": "code",
   "execution_count": 18,
   "metadata": {},
   "outputs": [
    {
     "data": {
      "text/plain": [
       "{'go': 3, 2: 1, 'hi': 4}"
      ]
     },
     "execution_count": 18,
     "metadata": {},
     "output_type": "execute_result"
    }
   ],
   "source": [
    "inputList= [\"HI\", \"HI\", \"hi\", \"hi\", \"go\", \"go\", \"Go\", 2]\n",
    "\n",
    "def counts(inputList, caseSensitivity=True):\n",
    "    \n",
    "    if caseSensitivity==False:\n",
    "        for i in range(0, len(inputList)):\n",
    "            if isinstance(inputList[i], str):\n",
    "                inputList[i] = inputList[i].lower()    \n",
    "    \n",
    "    return dict((element, inputList.count(element)) for element in set(inputList)) \n",
    "\n",
    "counts(inputList, False)"
   ]
  },
  {
   "cell_type": "markdown",
   "metadata": {},
   "source": [
    "[Table of Contents](#TOC)\n",
    "\n",
    "***\n",
    "## Task 2: Combined number rolled from k die n times<a class=\"anchor\" id=\"task_2\"></a>\n",
    "\n",
    ">**November 2nd, 2020**: Write a Python function called `dicerolls` that simulates\n",
    "rolling dice. Your function should take two parameters: the number of dice k and\n",
    "the number of times to roll the dice n. The function should simulate randomly\n",
    "rolling k dice n times, keeping track of each total face value. It should then return\n",
    "a dictionary with the number of times each possible total face value occurred. So,\n",
    "calling the function as `diceroll(k=2, n=1000)` should return a dictionary like: `{2:19,3:50,4:82,5:112,6:135,7:174,8:133,9:114,10:75,11:70,12:36}`\n",
    "\n",
    "A fair die gives an equal chance for each side to be rolled. NumPys random number generated function `choice` takes a range of numbers to choose from as its first parameter (below the array `number`) and the number of choices to make (below the variable `k`). With no other parameters `choice` will fairly choose one (each number is as likely to be chosen as the rest) [11]. \n",
    "\n",
    "So I create the array of choices `number`, an empty array to hold the rolls of the two die 'rolls'. Then I 'roll' the die and add their values together for the number of times specified as `n`. Each of the `n` rolls is summed and added to the `rolls` list. `k` controls how many die are being rolled each time. Then I use the previously created `counts` method to show the how many times each value appears in the `n` number of trials."
   ]
  },
  {
   "cell_type": "code",
   "execution_count": 19,
   "metadata": {},
   "outputs": [],
   "source": [
    "def dicerolls(k, n):\n",
    "    number = [1, 2, 3, 4, 5, 6]\n",
    "    rng = np.random.default_rng()\n",
    "    rolls = []\n",
    "    for i in range(n):\n",
    "        roll = sum(rng.choice(number, k))\n",
    "        rolls.append(roll)    \n",
    "    outcome = counts(rolls)\n",
    "    print(outcome)"
   ]
  },
  {
   "cell_type": "code",
   "execution_count": 20,
   "metadata": {},
   "outputs": [
    {
     "name": "stdout",
     "output_type": "stream",
     "text": [
      "{3: 4, 4: 7, 5: 12, 6: 11, 7: 19, 8: 21, 9: 10, 10: 8, 11: 4, 12: 4}\n"
     ]
    }
   ],
   "source": [
    "dicerolls(2, 100)"
   ]
  },
  {
   "cell_type": "markdown",
   "metadata": {},
   "source": [
    "[Table of Contents](#TOC)\n",
    "\n",
    "***\n",
    "\n",
    "## Task 3: Coin flip bell-shaped curve<a class=\"anchor\" id=\"task_3\"></a>\n",
    "\n",
    ">**November 16th, 2020**: The `numpy.random.binomial` function can be used to \n",
    "simulate flipping a coin with a 50/50 chance of heads or tails. Interestingly, if a\n",
    "coin is flipped many times then the number of heads is well approximated by a\n",
    "bell-shaped curve. For instance, if we flip a coin 100 times in a row the chance of\n",
    "getting 50 heads is relatively high, the chances of getting 0 or 100 heads is relatively\n",
    "low, and the chances of getting any other number of heads decreases as you move\n",
    "away from 50 in either direction towards 0 or 100. Write some python code that\n",
    "simulates flipping a coin 100 times. Then run this code 1,000 times, keeping track\n",
    "of the number of heads in each of the 1,000 simulations. Select an appropriate\n",
    "plot to depict the resulting list of 1,000 numbers, showing that it roughly follows\n",
    "a bell-shaped curve. You should explain your work in a Markdown cell above the\n",
    "code.\n"
   ]
  },
  {
   "cell_type": "markdown",
   "metadata": {},
   "source": [
    "Using `np.random.binomial(100, .5, 1000)` I flipped the 'coin' 100 times with each side having a probability of 0.5 and ran this experiment 1000 times. Then using matplotlib I created a histogram to show the numbers of heads in each experiment in ranges [12]."
   ]
  },
  {
   "cell_type": "code",
   "execution_count": 21,
   "metadata": {},
   "outputs": [],
   "source": [
    "# create an array called no_heads to contain the number of heads (out 100) for the 1000 experiments\n",
    "heads = np.random.binomial(100, .5, 1000)"
   ]
  },
  {
   "cell_type": "markdown",
   "metadata": {},
   "source": [
    "Then use the counts method made earlier to get a dictionary of how often a number of heads appears."
   ]
  },
  {
   "cell_type": "code",
   "execution_count": 22,
   "metadata": {},
   "outputs": [],
   "source": [
    "# create a diction where keys represent number of heads out of 100 and values represent how many times that \n",
    "# number appeared in the 1000 experiments\n",
    "no_of_heads = counts(heads.tolist())"
   ]
  },
  {
   "cell_type": "markdown",
   "metadata": {},
   "source": [
    "Create a list containing the number of heads in an experiment (x) and the number of experiments that number showed up in (y). An experiment is 100 tosses of a fair coin."
   ]
  },
  {
   "cell_type": "code",
   "execution_count": 23,
   "metadata": {},
   "outputs": [],
   "source": [
    "# Create x and y that represents the number of heads in an experiment and the number of experiments\n",
    "# that number showed up in (an experiment is 100 tosses of a fair coin).\n",
    "x = list(no_of_heads.keys())\n",
    "y = list(no_of_heads.values())"
   ]
  },
  {
   "cell_type": "markdown",
   "metadata": {},
   "source": [
    "Then create a histogram and a curve to show that the output roughly follows a bell shaped curve."
   ]
  },
  {
   "cell_type": "code",
   "execution_count": 24,
   "metadata": {},
   "outputs": [
    {
     "data": {
      "image/png": "[encoded data removed]",
      "text/plain": [
       "<Figure size 432x288 with 1 Axes>"
      ]
     },
     "metadata": {
      "needs_background": "light"
     },
     "output_type": "display_data"
    }
   ],
   "source": [
    "# create a histogram and a curve to show that the output roughly follows a bell shaped curve.\n",
    "plt.hist(heads, bins=16)\n",
    "plt.plot(x,y)\n",
    "plt.show()"
   ]
  },
  {
   "cell_type": "markdown",
   "metadata": {},
   "source": [
    "[Table of Contents](#TOC)\n",
    "***\n",
    "## Task 4: Simpson's paradox example<a class=\"anchor\" id=\"task_4\"></a>\n",
    "\n",
    ">**November 30th, 2020**: Simpson’s paradox is a well-known statistical paradox\n",
    "where a trend evident in a number of groups reverses when the groups are combined\n",
    "into one big data set. Use numpy to create four data sets, each with an `x` array\n",
    "and a corresponding `y` array, to demonstrate Simpson’s paradox. You might\n",
    "create your `x` arrays using `numpy.linspace` and create the `y` array for each\n",
    "`x` using notation like `y = a * x + b` where you choose the `a` and `b` for each\n",
    "`x` , `y` pair to demonstrate the paradox. You might see the Wikipedia page for\n",
    "Simpson’s paradox for inspiration.\n",
    "\n",
    "The second graph on the Wikipedia page for simpson's paradox gives a clear representation of it. I started by creating 4 sets of data (x and y) to represent 4 lines all with a positive slope of 2 [13]."
   ]
  },
  {
   "cell_type": "code",
   "execution_count": 25,
   "metadata": {},
   "outputs": [],
   "source": [
    "# points for line 1\n",
    "x1 = np.linspace(5, 10, num = 20)\n",
    "y1 = 2*x1 + 80\n",
    "\n",
    "# points for line 2\n",
    "x2 = np.linspace(7.5, 12.5, num = 20)\n",
    "y2 = 2*x2 + 60\n",
    "\n",
    "# points for line 3\n",
    "x3 = np.linspace(10, 15, num = 20)\n",
    "y3 = 2*x3 + 40\n",
    "\n",
    "# points for line 4\n",
    "x4 = np.linspace(12.5, 17.5, num = 20)\n",
    "y4 = 2*x4 + 20"
   ]
  },
  {
   "cell_type": "markdown",
   "metadata": {},
   "source": [
    "Plotting these points we can see that the all have the same slope when represented as lines (plus 2 as set above)."
   ]
  },
  {
   "cell_type": "code",
   "execution_count": 26,
   "metadata": {},
   "outputs": [
    {
     "data": {
      "image/png": "[encoded data removed]",
      "text/plain": [
       "<Figure size 432x288 with 1 Axes>"
      ]
     },
     "metadata": {
      "needs_background": "light"
     },
     "output_type": "display_data"
    }
   ],
   "source": [
    "plt.plot(x1, y1)\n",
    "plt.plot(x2, y2)\n",
    "plt.plot(x3, y3)\n",
    "plt.plot(x4, y4)\n",
    "plt.show()"
   ]
  },
  {
   "cell_type": "markdown",
   "metadata": {},
   "source": [
    "However, if we add them all together and plot the result we can see that the plotted best fit line has a clear negative slope. We can get the best fit line by using `np.polyfit` to get the slope and constant of the equation of a line that best represents the points [14]."
   ]
  },
  {
   "cell_type": "code",
   "execution_count": 27,
   "metadata": {},
   "outputs": [],
   "source": [
    "# append the lists of points together\n",
    "x = np.append(x1, [x2, x3, x4])\n",
    "y = np.append(y1, [y2, y3, y4])"
   ]
  },
  {
   "cell_type": "code",
   "execution_count": 28,
   "metadata": {},
   "outputs": [
    {
     "data": {
      "image/png": "[encoded data removed]",
      "text/plain": [
       "<Figure size 432x288 with 1 Axes>"
      ]
     },
     "metadata": {
      "needs_background": "light"
     },
     "output_type": "display_data"
    }
   ],
   "source": [
    "# create the slope and constant of the equation of a line that best represents the points.\n",
    "m, b = np.polyfit(x, y, 1)\n",
    "# plot the points\n",
    "plt.plot(x, y, 'o')\n",
    "# plot the \n",
    "plt.plot(x, m*x + b)\n",
    "plt.show()"
   ]
  },
  {
   "cell_type": "markdown",
   "metadata": {},
   "source": [
    "We can print the slope of the line to show that it is less than negative 4."
   ]
  },
  {
   "cell_type": "code",
   "execution_count": 29,
   "metadata": {},
   "outputs": [
    {
     "data": {
      "text/plain": [
       "-4.178861788617895"
      ]
     },
     "execution_count": 29,
     "metadata": {},
     "output_type": "execute_result"
    }
   ],
   "source": [
    "m"
   ]
  },
  {
   "cell_type": "markdown",
   "metadata": {},
   "source": [
    "***\n",
    "# End"
   ]
  },
  {
   "cell_type": "markdown",
   "metadata": {},
   "source": [
    "# References: <a class=\"anchor\" id=\"references\"></a>\n",
    "\n",
    "[1] John Sturtz, \"Dictionaries in Python\", https://realpython.com/python-dicts/\n",
    "\n",
    "[2] sthurlow.com, \"Tuples, Lists, and Dictionaries\", http://sthurlow.com/python/lesson06/ \n",
    "\n",
    "[3] Wikipedia, \"Set (mathematics)\", https://en.wikipedia.org/wiki/Set_(mathematics)\n",
    "\n",
    "[4] programiz.com, \"Python Sets\", https://www.programiz.com/python-programming/set\n",
    "\n",
    "[5] Georgy, \"Answer to: How can I count the occurrences of a list item?\", https://stackoverflow.com/questions/2600191/how-can-i-count-the-occurrences-of-a-list-item\n",
    "\n",
    "[6] w3schools.com, \"Python List count() Method\", https://www.w3schools.com/python/ref_list_count.asp\n",
    "\n",
    "[7] w3schools.com, \"Python dict() Function\", https://www.w3schools.com/python/ref_func_dict.asp\n",
    "\n",
    "[8] user2314737, \"Answer to: How can I count the occurrences of a list item?\", https://stackoverflow.com/questions/2600191/how-can-i-count-the-occurrences-of-a-list-item\n",
    "\n",
    "[9] Sven Marnach, \"Answer to: How to check if type of a variable is string?\", https://stackoverflow.com/questions/4843173/how-to-check-if-type-of-a-variable-is-string\n",
    "\n",
    "[10] YOU, \"Answer to: Convert a Python list with strings all to lowercase or uppercase\", https://stackoverflow.com/questions/1801668/convert-a-python-list-with-strings-all-to-lowercase-or-uppercase\n",
    "\n",
    "[11] The Scipy community, \"numpy.random.choice\", https://docs.scipy.org/doc//numpy-1.10.4/reference/generated/numpy.random.choice.html\n",
    "\n",
    "[12] The SciPy community, \"numpy.random.binomial\", https://numpy.org/doc/stable/reference/random/generated/numpy.random.binomial.html\n",
    "\n",
    "[13] Wikipedia, \"Visualization of Simpson's paradox on data resembling real-world variability indicates that risk of misjudgement of true relationship can be hard to spot\", https://en.wikipedia.org/wiki/Simpson%27s_paradox#:~:text=Simpson's%20paradox%2C%20which%20also%20goes,when%20these%20groups%20are%20combined\n",
    "\n",
    "[14] kite.com, \"How to plot a line of best fit in Python\", https://www.kite.com/python/answers/how-to-plot-a-line-of-best-fit-in-python"
   ]
  }
 ],
 "metadata": {
  "kernelspec": {
   "display_name": "Python 3",
   "language": "python",
   "name": "python3"
  },
  "language_info": {
   "codemirror_mode": {
    "name": "ipython",
    "version": 3
   },
   "file_extension": ".py",
   "mimetype": "text/x-python",
   "name": "python",
   "nbconvert_exporter": "python",
   "pygments_lexer": "ipython3",
   "version": "3.8.3"
  }
 },
 "nbformat": 4,
 "nbformat_minor": 4
}
