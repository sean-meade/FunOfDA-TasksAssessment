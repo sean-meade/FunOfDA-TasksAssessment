{
 "cells": [
  {
   "cell_type": "markdown",
   "metadata": {},
   "source": [
    "## To-do:\n",
    "- Transfer references from bookmark tab.\n",
    "- Add/actually write a README.md.\n",
    "- add option for case sensitivity."
   ]
  },
  {
   "cell_type": "markdown",
   "metadata": {},
   "source": [
    "# Tasks for Fundamentals of Data Analytics Module\n",
    "\n",
    "My submission for the solutions to the Tasks Assessment. The author is Seán Meade (G00376471@gmit.ie).\n",
    "\n",
    "***\n",
    "\n",
    "*Modules can't be used to complete the tasks but the following modules are used to explain certain parts and test our code.*"
   ]
  },
  {
   "cell_type": "code",
   "execution_count": 10,
   "metadata": {},
   "outputs": [
    {
     "data": {
      "text/plain": [
       "array([57, 50, 53, 51, 50])"
      ]
     },
     "execution_count": 10,
     "metadata": {},
     "output_type": "execute_result"
    }
   ],
   "source": [
    "np.random.binomial(100, .5, 5)"
   ]
  },
  {
   "cell_type": "code",
   "execution_count": 15,
   "metadata": {},
   "outputs": [
    {
     "data": {
      "text/plain": [
       "(array([  7.,  24.,  64., 155., 227., 230., 166.,  90.,  33.,   4.]),\n",
       " array([35., 38., 41., 44., 47., 50., 53., 56., 59., 62., 65.]),\n",
       " <a list of 10 Patch objects>)"
      ]
     },
     "execution_count": 15,
     "metadata": {},
     "output_type": "execute_result"
    },
    {
     "data": {
      "image/png": "[encoded data removed]",
      "text/plain": [
       "<Figure size 432x288 with 1 Axes>"
      ]
     },
     "metadata": {
      "needs_background": "light"
     },
     "output_type": "display_data"
    }
   ],
   "source": [
    "import numpy as np\n",
    "import matplotlib.pyplot as plt\n",
    "\n",
    "for i in range(0, 1000):\n",
    "    no_heads = np.random.binomial(100, .5, 1000)\n",
    "plt.hist(no_heads)"
   ]
  },
  {
   "cell_type": "code",
   "execution_count": null,
   "metadata": {},
   "outputs": [],
   "source": []
  },
  {
   "cell_type": "code",
   "execution_count": null,
   "metadata": {},
   "outputs": [],
   "source": []
  },
  {
   "cell_type": "code",
   "execution_count": null,
   "metadata": {},
   "outputs": [],
   "source": []
  },
  {
   "cell_type": "markdown",
   "metadata": {},
   "source": [
    "**<ins>Task 1</ins>**:\n",
    ">**October 5th, 2020**: Write a Python function called counts that takes a list as\n",
    "input and returns a dictionary of unique items in the list as keys and the number of\n",
    "times each item appears as values. So, the input ['A', 'A', 'B', 'C', 'A']\n",
    "should have output {'A': 3, 'B': 1, 'C': 1} . Your code should not depend\n",
    "on any module from the standard library or otherwise. You should research the task\n",
    "first and include a description with references of your algorithm in the notebook.\n",
    "\n",
    "#### Introduction\n",
    "\n",
    "Lists and dictionaries have some things in common. Both are data structures containing one or more data points. You can change and alter both during the execution of a program, otherwise known as being mutable. You can nest both inside a list or a dictionary. Both can be, but do not have to be, homogeneous. Meaning that you can have numbers, strings and Booleans in the same list or dictionary. [1]\n",
    "\n",
    "| Feature | List | Dictionary |\n",
    "|---------|------|------------|\n",
    "| Mutable | Yes  |   Yes      |\n",
    "| Homogeneous | Yes | Yes |\n",
    "| Nestable | Yes | Yes |\n",
    "| Ordered | Yes | No |\n",
    "\n",
    "The main difference between the two is that lists are ordered, and dictionaries are not. Simply put this means that when you search for `list[0]` it will look up the first element of the list but when you search `dict[0]` it will search for the key value 0 and give you the corresponding value. And that each element in a list has a value but in a dictionary each element has a key and a value.[1]"
   ]
  },
  {
   "cell_type": "code",
   "execution_count": 1,
   "metadata": {},
   "outputs": [],
   "source": [
    "list = [2, 4, 6, 8, 10, 12, 14]\n",
    "\n",
    "dictionary = {100: 2, 5: 4, \"hi\": 6, 0: 8, \"x\": 10, \"f\": 12, 8.91: 14}"
   ]
  },
  {
   "cell_type": "markdown",
   "metadata": {},
   "source": [
    "This means when I use `list[0]` it will return the first element in the list which here is 2"
   ]
  },
  {
   "cell_type": "code",
   "execution_count": 2,
   "metadata": {},
   "outputs": [
    {
     "data": {
      "text/plain": [
       "2"
      ]
     },
     "execution_count": 2,
     "metadata": {},
     "output_type": "execute_result"
    }
   ],
   "source": [
    "list[0]"
   ]
  },
  {
   "cell_type": "markdown",
   "metadata": {},
   "source": [
    "Where if I search `dictionary[0]` it will return the value with the corresponding key vaue of `0` which in the example above is 8."
   ]
  },
  {
   "cell_type": "code",
   "execution_count": 3,
   "metadata": {},
   "outputs": [
    {
     "data": {
      "text/plain": [
       "8"
      ]
     },
     "execution_count": 3,
     "metadata": {},
     "output_type": "execute_result"
    }
   ],
   "source": [
    "dictionary[0]"
   ]
  },
  {
   "cell_type": "markdown",
   "metadata": {},
   "source": [
    "This is an important distinction to make. In our `list` and our `dict` the values are the same. They look to be in the same order (as far as values go) but in fact dictionaries don't have an order. Dictionaries use a pairing system that goes `\"key\": \"value\"`. This becomes more intuative if you look at it visually [2].\n",
    "\n",
    "![Visual Representation of Diction Key: Values](imgs/created/dictionary1.png)\n",
    "\n",
    "As seen above the key `0` corresponds to the value 8 but this could easily be placed anywhere in the dictionary and still be accessed the same. Now to us it's moved but to Python nothing has changed, `dict[0]` will produce the same value because we haven't changed its key.\n",
    "\n",
    "![Visual Representation of Diction Key: Values 2](imgs/created/dictionary2.png)\n",
    "\n",
    "Where as in a list changing the order matters. Take the list above using `list[0]` will return us the value 2.\n",
    "\n",
    "![Visual Representation of List Positioning](imgs/created/list1.png)\n",
    "\n",
    "Now if we were to move the 2 value the position (or how we access that value) will change.\n",
    "\n",
    "![Visual Representation of List Positioning2](imgs/created/list2.png)\n",
    "\n",
    "Now in order to access the value of 2 we must use `list[3]`."
   ]
  },
  {
   "cell_type": "markdown",
   "metadata": {},
   "source": [
    "#### The problem\n",
    "\n",
    "The problem can be split into three parts. The first determining the unique elements in the list (that will later become our keys). Second the count of each of these within the list and use them as the value of our keys. Lastly we'll have to create the dictionary with or now obtained keys and values.\n",
    "\n",
    "We'll start with the first half of the problem: collecting our key values. For now we will not be interested in upper and lower case letters so our function will not be case sensetive. We'll create a very simple `testList` to test our code on."
   ]
  },
  {
   "cell_type": "code",
   "execution_count": 6,
   "metadata": {},
   "outputs": [],
   "source": [
    "testList = [5, 4, 3, 2, 1, 2, 3, 4, 5, \"A\", \"B\", \"C\", \"B\"]"
   ]
  },
  {
   "cell_type": "markdown",
   "metadata": {},
   "source": [
    "We now need to be able to look through our `testList` and pick out the unique elements. So first we need to be able to grab each item in turn. We can do this with the `set()` method. A set in mathematics is \"a well-defined collection of distinct objects\" [3]. By distinct objects in our terms it means unique elements. So passing a list into `set()` will return a set containing of distinct (or unique) objects (or elements) [4]."
   ]
  },
  {
   "cell_type": "code",
   "execution_count": 7,
   "metadata": {
    "scrolled": false
   },
   "outputs": [
    {
     "data": {
      "text/plain": [
       "{1, 2, 3, 4, 5, 'A', 'B', 'C'}"
      ]
     },
     "execution_count": 7,
     "metadata": {},
     "output_type": "execute_result"
    }
   ],
   "source": [
    "set(testList)"
   ]
  },
  {
   "cell_type": "markdown",
   "metadata": {},
   "source": [
    "Next we'll need a way to count how many times each element in the set repeats in our testList. For this the count() method is ideal. It will go through the given list and count how many times the value we pass in is in the list [5, 6]."
   ]
  },
  {
   "cell_type": "code",
   "execution_count": 8,
   "metadata": {},
   "outputs": [
    {
     "data": {
      "text/plain": [
       "2"
      ]
     },
     "execution_count": 8,
     "metadata": {},
     "output_type": "execute_result"
    }
   ],
   "source": [
    "testList.count(5) # count how many 5s appears in testList"
   ]
  },
  {
   "cell_type": "markdown",
   "metadata": {},
   "source": [
    "Next we'll have to create a dictionary to store our output. Luckily there is the in-built function `dict()`. This can take a key and a value as shown below and will create a dictionary for us [7]. So in the below example `a` and `b` are keys and 2 and 3 are the values."
   ]
  },
  {
   "cell_type": "code",
   "execution_count": 9,
   "metadata": {},
   "outputs": [
    {
     "data": {
      "text/plain": [
       "{'a': 2, 'b': 3}"
      ]
     },
     "execution_count": 9,
     "metadata": {},
     "output_type": "execute_result"
    }
   ],
   "source": [
    "dictionary = dict(a = 2, b = 3)\n",
    "dictionary"
   ]
  },
  {
   "cell_type": "markdown",
   "metadata": {},
   "source": [
    "Now that we understand each step of what must be done we can combine them into one simple line. First we state that the output will be a dictionary by using the `dict()` function. Next, inside the dictionary method our key will be the variable `element` and our value will be the `count()` of that value in the testList (`testList.count(element)`). Lastly we'll create a for loop that will go through the values in the set and count how many times each one appears in the testList[8]. As stated above the set values become our keys and the count of each of these become our values."
   ]
  },
  {
   "cell_type": "code",
   "execution_count": 10,
   "metadata": {},
   "outputs": [
    {
     "data": {
      "text/plain": [
       "{1: 1, 2: 2, 3: 2, 4: 2, 5: 2, 'C': 1, 'B': 2, 'A': 1}"
      ]
     },
     "execution_count": 10,
     "metadata": {},
     "output_type": "execute_result"
    }
   ],
   "source": [
    "dict((element, testList.count(element)) for element in set(testList))"
   ]
  },
  {
   "cell_type": "markdown",
   "metadata": {},
   "source": [
    "Now to create a function with the above and call it `counts()` with our input list as a parameter:"
   ]
  },
  {
   "cell_type": "code",
   "execution_count": 12,
   "metadata": {},
   "outputs": [
    {
     "data": {
      "text/plain": [
       "{1: 1, 2: 2, 3: 2, 4: 2, 5: 2, 'C': 1, 'B': 2, 'A': 1}"
      ]
     },
     "execution_count": 12,
     "metadata": {},
     "output_type": "execute_result"
    }
   ],
   "source": [
    "def counts(inputList):\n",
    "    return dict((element, inputList.count(element)) for element in set(inputList))\n",
    "\n",
    "counts(testList)"
   ]
  },
  {
   "cell_type": "markdown",
   "metadata": {},
   "source": [
    "#### Test counts()\n",
    "One thing our function can't count in a list is a Boolean, or at least there are limitations. Below we have a list of booleans. At first glance the `counts()` function seems to work perfectly on booleans. However it only works for boolean values if we have only booleans in our list or everything else comes before the boolean expressions."
   ]
  },
  {
   "cell_type": "code",
   "execution_count": 15,
   "metadata": {},
   "outputs": [
    {
     "data": {
      "text/plain": [
       "{False: 3, True: 3}"
      ]
     },
     "execution_count": 15,
     "metadata": {},
     "output_type": "execute_result"
    }
   ],
   "source": [
    "inputList = [False, False, False, True, True, True]\n",
    "\n",
    "counts(inputList)"
   ]
  },
  {
   "cell_type": "markdown",
   "metadata": {},
   "source": [
    "Below we can see that it counts the 2s as expected:"
   ]
  },
  {
   "cell_type": "code",
   "execution_count": 16,
   "metadata": {},
   "outputs": [
    {
     "data": {
      "text/plain": [
       "{False: 3, True: 3, 2: 3}"
      ]
     },
     "execution_count": 16,
     "metadata": {},
     "output_type": "execute_result"
    }
   ],
   "source": [
    "inputList = [2, 2, 2, \n",
    "             True, True, True, \n",
    "             False, False, False]\n",
    "\n",
    "counts(inputList)"
   ]
  },
  {
   "cell_type": "markdown",
   "metadata": {},
   "source": [
    "but if we were to add integers after the booleans:"
   ]
  },
  {
   "cell_type": "code",
   "execution_count": 17,
   "metadata": {},
   "outputs": [
    {
     "data": {
      "text/plain": [
       "{False: 3, True: 6, 2: 3}"
      ]
     },
     "execution_count": 17,
     "metadata": {},
     "output_type": "execute_result"
    }
   ],
   "source": [
    "inputList = [2, 2, 2, \n",
    "             True, True, True, \n",
    "             False, False, False, \n",
    "             1, 1, 1]\n",
    "\n",
    "counts(inputList)"
   ]
  },
  {
   "cell_type": "markdown",
   "metadata": {},
   "source": [
    "Our function counts the 1s as 1s but also as `True`. The opposite is true for 0s."
   ]
  },
  {
   "cell_type": "code",
   "execution_count": 35,
   "metadata": {
    "scrolled": true
   },
   "outputs": [
    {
     "data": {
      "text/plain": [
       "{False: 6, True: 6, 2: 2, 'a': 2}"
      ]
     },
     "execution_count": 35,
     "metadata": {},
     "output_type": "execute_result"
    }
   ],
   "source": [
    "inputList = [2, 2, 2, \n",
    "             True, True, True, \n",
    "             False, False, False, \n",
    "             1, 1, 1, \n",
    "             0, 0, 0]\n",
    "\n",
    "counts(inputList)"
   ]
  },
  {
   "cell_type": "markdown",
   "metadata": {},
   "source": [
    "In Python 0 is equivalent to `False` and 1 is equivalent to `True`:"
   ]
  },
  {
   "cell_type": "code",
   "execution_count": 18,
   "metadata": {},
   "outputs": [
    {
     "data": {
      "text/plain": [
       "True"
      ]
     },
     "execution_count": 18,
     "metadata": {},
     "output_type": "execute_result"
    }
   ],
   "source": [
    "0==False"
   ]
  },
  {
   "cell_type": "code",
   "execution_count": 19,
   "metadata": {},
   "outputs": [
    {
     "data": {
      "text/plain": [
       "True"
      ]
     },
     "execution_count": 19,
     "metadata": {},
     "output_type": "execute_result"
    }
   ],
   "source": [
    "1==True"
   ]
  },
  {
   "cell_type": "markdown",
   "metadata": {},
   "source": [
    "Our function seems to work fine with strings."
   ]
  },
  {
   "cell_type": "code",
   "execution_count": 40,
   "metadata": {},
   "outputs": [
    {
     "data": {
      "text/plain": [
       "{False: 3, True: 3, 'b': 3, 'a': 3}"
      ]
     },
     "execution_count": 40,
     "metadata": {},
     "output_type": "execute_result"
    }
   ],
   "source": [
    "inputList = [\"a\", \"a\", \"a\", \n",
    "             True, True, True, \n",
    "             False, False, False,\n",
    "             \"b\", \"b\", \"b\"]\n",
    "\n",
    "counts(inputList)"
   ]
  },
  {
   "cell_type": "markdown",
   "metadata": {},
   "source": [
    "There is also the senario of case sensitivity. What if we wanted to make it so `\"b\"` and `\"B\"` were counted as the same thing. Could we add something to our function to add this feature? \n",
    "\n",
    "We can do this by setting a case sensitivity variable. If it's true it loops through the list and checks for strings [9] and converts them all to lower case [10]. Then runs as normal."
   ]
  },
  {
   "cell_type": "code",
   "execution_count": 101,
   "metadata": {},
   "outputs": [
    {
     "data": {
      "text/plain": [
       "{'hi': 4, 2: 1, 'go': 3}"
      ]
     },
     "execution_count": 101,
     "metadata": {},
     "output_type": "execute_result"
    }
   ],
   "source": [
    "inputList= [\"HI\", \"HI\", \"hi\", \"hi\", \"go\", \"go\", \"Go\", 2]\n",
    "\n",
    "def counts(inputList, caseSensitivity=True):\n",
    "    \n",
    "    if caseSensitivity==False:\n",
    "        for i in range(0, len(inputList)):\n",
    "            if isinstance(inputList[i], str):\n",
    "                inputList[i] = inputList[i].lower()    \n",
    "    \n",
    "    return dict((element, inputList.count(element)) for element in set(inputList)) \n",
    "\n",
    "counts(inputList, False)"
   ]
  },
  {
   "cell_type": "markdown",
   "metadata": {},
   "source": [
    "## Task 2"
   ]
  },
  {
   "cell_type": "code",
   "execution_count": 63,
   "metadata": {},
   "outputs": [],
   "source": [
    "import numpy as np\n",
    "# k = number of dice, n = number of rolls\n",
    "def dicerolls(k):\n",
    "    number = [1, 2, 3, 4, 5, 6]\n",
    "    rng = np.random.default_rng()\n",
    "    roll = rng.choice([1, 2, 3, 4 ,5, 6], k)\n",
    "    quantity = []\n",
    "    faceval = 0\n",
    "    for i in range(0, k):\n",
    "        faceval = faceval + roll[i]\n",
    "    quantity.append()\n",
    "    "
   ]
  },
  {
   "cell_type": "code",
   "execution_count": 69,
   "metadata": {},
   "outputs": [
    {
     "name": "stdout",
     "output_type": "stream",
     "text": [
      "6\n",
      "[4 2] 2\n"
     ]
    }
   ],
   "source": [
    "dicerolls(2)"
   ]
  },
  {
   "cell_type": "code",
   "execution_count": null,
   "metadata": {},
   "outputs": [],
   "source": [
    "def counts(inputList, caseSensitivity=True):\n",
    "    \n",
    "    if caseSensitivity==False:\n",
    "        for i in range(0, len(inputList)):\n",
    "            if isinstance(inputList[i], str):\n",
    "                inputList[i] = inputList[i].lower()    \n",
    "    \n",
    "    return dict((element, inputList.count(element)) for element in set(inputList)) "
   ]
  },
  {
   "cell_type": "code",
   "execution_count": 131,
   "metadata": {},
   "outputs": [],
   "source": [
    "def dicerolls(k, n):\n",
    "    number = [1, 2, 3, 4, 5, 6]\n",
    "    rng = np.random.default_rng()\n",
    "    rolls = []\n",
    "    for i in range(n):\n",
    "        roll = sum(rng.choice(number, k))\n",
    "        rolls.append(roll)    \n",
    "    outcome = counts(rolls)\n",
    "    print(outcome)"
   ]
  },
  {
   "cell_type": "code",
   "execution_count": 132,
   "metadata": {},
   "outputs": [
    {
     "name": "stdout",
     "output_type": "stream",
     "text": [
      "{2: 6, 3: 7, 4: 10, 5: 11, 6: 14, 7: 14, 8: 12, 9: 12, 10: 5, 11: 7, 12: 2}\n"
     ]
    }
   ],
   "source": [
    "dicerolls(2, 100)"
   ]
  },
  {
   "cell_type": "markdown",
   "metadata": {},
   "source": [
    "# References:\n",
    "\n",
    "[1] John Sturtz, \"Dictionaries in Python\", https://realpython.com/python-dicts/\n",
    "\n",
    "[2] sthurlow.com, \"Tuples, Lists, and Dictionaries\", http://sthurlow.com/python/lesson06/ \n",
    "\n",
    "[3] Wikipedia, \"Set (mathematics)\", https://en.wikipedia.org/wiki/Set_(mathematics)\n",
    "\n",
    "[4] programiz.com, \"Python Sets\", https://www.programiz.com/python-programming/set\n",
    "\n",
    "[5] Georgy, \"Answer to: How can I count the occurrences of a list item?\", https://stackoverflow.com/questions/2600191/how-can-i-count-the-occurrences-of-a-list-item\n",
    "\n",
    "[6] w3schools.com, \"Python List count() Method\", https://www.w3schools.com/python/ref_list_count.asp\n",
    "\n",
    "[7] w3schools.com, \"Python dict() Function\", https://www.w3schools.com/python/ref_func_dict.asp\n",
    "\n",
    "[8] user2314737, \"Answer to: How can I count the occurrences of a list item?\", https://stackoverflow.com/questions/2600191/how-can-i-count-the-occurrences-of-a-list-item\n",
    "\n",
    "[9] Sven Marnach, \"Answer to: How to check if type of a variable is string?\", https://stackoverflow.com/questions/4843173/how-to-check-if-type-of-a-variable-is-string\n",
    "\n",
    "[10] YOU, \"Answer to: Convert a Python list with strings all to lowercase or uppercase\", https://stackoverflow.com/questions/1801668/convert-a-python-list-with-strings-all-to-lowercase-or-uppercase"
   ]
  }
 ],
 "metadata": {
  "kernelspec": {
   "display_name": "Python 3",
   "language": "python",
   "name": "python3"
  },
  "language_info": {
   "codemirror_mode": {
    "name": "ipython",
    "version": 3
   },
   "file_extension": ".py",
   "mimetype": "text/x-python",
   "name": "python",
   "nbconvert_exporter": "python",
   "pygments_lexer": "ipython3",
   "version": "3.8.3"
  }
 },
 "nbformat": 4,
 "nbformat_minor": 4
}
