{
 "cells": [
  {
   "cell_type": "markdown",
   "metadata": {},
   "source": [
    "# Tasks for Fundamentals of Data Analytics Module\n",
    "\n",
    "My submission for the solutions to the Tasks Assessment. The author is Seán Meade (G00376471@gmit.ie).\n",
    "\n",
    "***\n",
    "\n",
    "*Modules can't be used to complete the tasks but the following modules are used to explain certain parts and test our code.*"
   ]
  },
  {
   "cell_type": "code",
   "execution_count": null,
   "metadata": {},
   "outputs": [],
   "source": [
    "import"
   ]
  },
  {
   "cell_type": "markdown",
   "metadata": {},
   "source": [
    "**<ins>Task 1</ins>**:\n",
    ">**October 5th, 2020**: Write a Python function called counts that takes a list as\n",
    "input and returns a dictionary of unique items in the list as keys and the number of\n",
    "times each item appears as values. So, the input ['A', 'A', 'B', 'C', 'A']\n",
    "should have output {'A': 3, 'B': 1, 'C': 1} . Your code should not depend\n",
    "on any module from the standard library or otherwise. You should research the task\n",
    "first and include a description with references of your algorithm in the notebook.\n",
    "\n",
    "#### Introduction\n",
    "\n",
    "Lists and dictionaries are both data structures in Python. "
   ]
  },
  {
   "cell_type": "code",
   "execution_count": 1,
   "metadata": {},
   "outputs": [],
   "source": [
    "inputList = [\"A\", \"B\", \"A\", \"A\", \"C\", \"B\", \"D\", \"one\", 2, \"one\", 1, 1, \"two\", \"two\"]\n",
    "keyList = []"
   ]
  },
  {
   "cell_type": "code",
   "execution_count": 2,
   "metadata": {},
   "outputs": [
    {
     "name": "stdout",
     "output_type": "stream",
     "text": [
      "['A', 'two', 'B', 'C', 'D', 'one', 2, 1]\n"
     ]
    }
   ],
   "source": [
    "for i in range(0, len(inputList)):\n",
    "    for j in range(i + 1, len(inputList)):\n",
    "        if ((inputList[i] != inputList[j]) and (inputList[i] not in keyList)):\n",
    "            keyList.append(inputList[i])\n",
    "        if (inputList[-1] not in keyList):\n",
    "            keyList.append(inputList[-1])\n",
    "            \n",
    "print(keyList)"
   ]
  },
  {
   "cell_type": "markdown",
   "metadata": {},
   "source": [
    "[1]https://thispointer.com/python-how-to-check-if-an-item-exists-in-list-search-by-value-or-condition/ (for not in)"
   ]
  },
  {
   "cell_type": "code",
   "execution_count": 3,
   "metadata": {},
   "outputs": [],
   "source": [
    "outputDict = {}\n",
    "for j in range(0, len(keyList)):\n",
    "    count = 0\n",
    "    for i in range(0, len(inputList)):\n",
    "        if keyList[j] == inputList[i]:\n",
    "            count = count + 1\n",
    "    outputDict[keyList[j]] = count\n",
    "            "
   ]
  },
  {
   "cell_type": "code",
   "execution_count": 4,
   "metadata": {},
   "outputs": [
    {
     "data": {
      "text/plain": [
       "{'A': 3, 'two': 2, 'B': 2, 'C': 1, 'D': 1, 'one': 2, 2: 1, 1: 2}"
      ]
     },
     "execution_count": 4,
     "metadata": {},
     "output_type": "execute_result"
    }
   ],
   "source": [
    "outputDict"
   ]
  },
  {
   "cell_type": "markdown",
   "metadata": {},
   "source": [
    "[2]https://careerkarma.com/blog/python-add-to-dictionary/ (for adding (appending) to dictionary)"
   ]
  },
  {
   "cell_type": "markdown",
   "metadata": {},
   "source": [
    "1. **October 5th, 2020:** \n",
    "Write a Python function called counts that takes a list as\n",
    "input and returns a dictionary of unique items in the list as keys and the number of\n",
    "times each item appears as values. So, the input ['A', 'A', 'B', 'C', 'A']\n",
    "should have output {'A': 3, 'B': 1, 'C': 1} . Your code should not depend\n",
    "on any module from the standard library or otherwise. You should research the task\n",
    "first and include a description with references of your algorithm in the notebook."
   ]
  },
  {
   "cell_type": "code",
   "execution_count": 6,
   "metadata": {},
   "outputs": [],
   "source": [
    "def counts(inputList):\n",
    "    keyList = []\n",
    "    for i in range(0, len(inputList)):\n",
    "        for j in range(i + 1, len(inputList)):\n",
    "            if ((inputList[i] != inputList[j]) and (inputList[i] not in keyList)):\n",
    "                keyList.append(inputList[i])\n",
    "            if (inputList[-1] not in keyList):\n",
    "                keyList.append(inputList[-1])\n",
    "    \n",
    "    outputDict = {}\n",
    "    for j in range(0, len(keyList)):\n",
    "        count = 0\n",
    "        for i in range(0, len(inputList)):\n",
    "            if keyList[j] == inputList[i]:\n",
    "                count = count + 1\n",
    "        outputDict[keyList[j]] = count\n",
    "        \n",
    "    return outputDict"
   ]
  },
  {
   "cell_type": "code",
   "execution_count": 7,
   "metadata": {},
   "outputs": [
    {
     "data": {
      "text/plain": [
       "{'A': 3, 'two': 2, 'B': 2, 'C': 1, 'D': 1, 'one': 2, 2: 1, 1: 2}"
      ]
     },
     "execution_count": 7,
     "metadata": {},
     "output_type": "execute_result"
    }
   ],
   "source": [
    "counts(inputList)"
   ]
  },
  {
   "cell_type": "code",
   "execution_count": null,
   "metadata": {},
   "outputs": [],
   "source": []
  }
 ],
 "metadata": {
  "kernelspec": {
   "display_name": "Python 3",
   "language": "python",
   "name": "python3"
  },
  "language_info": {
   "codemirror_mode": {
    "name": "ipython",
    "version": 3
   },
   "file_extension": ".py",
   "mimetype": "text/x-python",
   "name": "python",
   "nbconvert_exporter": "python",
   "pygments_lexer": "ipython3",
   "version": "3.8.3"
  }
 },
 "nbformat": 4,
 "nbformat_minor": 4
}
